{
  "cells": [
    {
      "cell_type": "markdown",
      "metadata": {
        "id": "-pC-gsf75iU3"
      },
      "source": [
        "\n",
        "**Object Orientation Programming**\n",
        "> **Professor: Sthefanie Passo**\n",
        "\n",
        "> **E-mail: sthefaniepasso@gmail.com**!\n"
      ]
    },
    {
      "cell_type": "markdown",
      "metadata": {
        "id": "kT0a6Uku5w1u"
      },
      "source": [
        "# Four Principles of OOP\n",
        "The four pillars of object-oriented programming are:\n",
        "\n",
        "* Inheritance: child classes inherit data and behaviors from the parent class\n",
        "* Encapsulation: containing information in an object, exposing only selected information\n",
        "* Abstraction: only exposing high-level public methods for accessing an object\n",
        "* Polymorphism: many methods can do the same task\n",
        "\n",
        "# Python Inheritance\n",
        "\n",
        "Being an object-oriented language, Python supports class inheritance. It allows us to create a new class from an existing one.\n",
        "\n",
        "* The newly created class is known as the subclass (child or derived class).\n",
        "* The existing class from which the child class inherits is known as the superclass (parent or base class).\n",
        "\n",
        "**Python Inheritance Syntax:**\n",
        "\n",
        "\n",
        "```\n",
        "# define a superclass\n",
        "class super_class:\n",
        "    # attributes and method definition\n",
        "\n",
        "# inheritance\n",
        "class sub_class(super_class):\n",
        "    # attributes and method of super_class\n",
        "    # attributes and method of sub_class\n",
        "```\n",
        "Here, we are inheriting the sub_class from the super_class.\n",
        "\n",
        "**Example: Create class Animal. Each Animal have a name can have the functionality to eat(). Create the Class Dog that is a subclass from Animal and also have the toString() method.**\n"
      ]
    },
    {
      "cell_type": "code",
      "execution_count": 4,
      "metadata": {
        "id": "HrlTgY3u5eVA"
      },
      "outputs": [],
      "source": [
        "class Animal():\n",
        "    def __init__(self, name, food):\n",
        "        self.name = name\n",
        "        self.fav_food = food\n",
        "    \n",
        "    # getters/setters\n",
        "    def set_name(self, name):\n",
        "        self.name = name\n",
        "    def get_name(self):\n",
        "        return self.name\n",
        "    def set_favfood(self, food):\n",
        "        self.fav_food = food\n",
        "    def get_favfood(self):\n",
        "        return self.fav_food\n",
        "\n",
        "    #methods\n",
        "    def eat(self):\n",
        "        print(\"my favorite food is: \", self.get_favfood())\n",
        "    \n",
        "    def toString(self):\n",
        "        print(\"********************\")\n",
        "        print(\"Name: \", self.get_name())\n",
        "        print(\"Favorite Food: \", self.get_favfood())\n",
        "\n",
        "class Dog(Animal):\n",
        "    def __init__(self, name, food, fav_park):\n",
        "        super().__init__(name, food)\n",
        "        self.fav_park = fav_park\n",
        "        \n",
        "    # getters/setters\n",
        "    def set_favpark(self,park):\n",
        "        self.fav_park = park\n",
        "    def get_favpark(self):\n",
        "        return self.fav_park\n",
        "    \n",
        "    def toString(self):\n",
        "        print(\"Name: \", self.get_name())\n",
        "        print(\"Favorite Food: \", self.get_favfood())\n",
        "        print(\"Favorite Park: \", self.get_favpark())"
      ]
    },
    {
      "cell_type": "code",
      "execution_count": 6,
      "metadata": {
        "colab": {
          "base_uri": "https://localhost:8080/"
        },
        "id": "OvjdPfSVS2l1",
        "outputId": "e49905a6-70c1-4cfe-f35b-22120bba9c77"
      },
      "outputs": [
        {
          "name": "stdout",
          "output_type": "stream",
          "text": [
            "********************\n",
            "Name:  Romeo\n",
            "Favorite Food:  squeeze-it\n",
            "my favorite food is:  squeeze-it\n",
            "********************\n",
            "Name:  Kaizer\n",
            "Favorite Food:  bird\n",
            "Favorite Park:  Water Park\n",
            "my favorite food is:  bird\n"
          ]
        }
      ],
      "source": [
        "if __name__ == \"__main__\":\n",
        "    cat = Animal(\"Romeo\",\"squeeze-it\")\n",
        "    dog = Dog(\"Kaizer\", \"bird\", \"Water Park\")\n",
        "    \n",
        "    cat.toString()\n",
        "    cat.eat()\n",
        "\n",
        "    dog.toString()\n",
        "    dog.eat()\n"
      ]
    },
    {
      "cell_type": "markdown",
      "metadata": {
        "id": "lQ-fqQxWS1l4"
      },
      "source": [
        "In the above example, we have derived a subclass Dog from a superclass Animal. Notice the statements,"
      ]
    },
    {
      "cell_type": "code",
      "execution_count": 7,
      "metadata": {
        "id": "Dt6UTf-YS7rW"
      },
      "outputs": [
        {
          "name": "stdout",
          "output_type": "stream",
          "text": [
            "my favorite food is:  bones\n"
          ]
        }
      ],
      "source": [
        "labrador =  Dog(\" \", \"bones\", \"splash-pad\")\n",
        "labrador.set_name(\"Oreo\")\n",
        "labrador.eat()"
      ]
    },
    {
      "cell_type": "markdown",
      "metadata": {
        "id": "suc8aQrsTSVH"
      },
      "source": [
        "Here, we are using labrador (object of Dog) to access name and eat() of the Animal class.\n",
        "\n",
        "This is possible because the subclass inherits all attributes and methods of the superclass.\n",
        "\n",
        "Also, we have accessed the name attribute inside the method of the Dog class using self.\n",
        "\n",
        "![link text](https://www.programiz.com/sites/tutorial2program/files/python-inheritance-example.png)\n",
        "\n",
        "# is-a relationship\n",
        "Inheritance is an is-a relationship. That is, we use inheritance only if there exists an is-a relationship between two classes. For example,\n",
        "\n",
        "* Car is a Vehicle\n",
        "* Apple is a Fruit\n",
        "* Cat is an Animal\n",
        "\n",
        "Here, Car can inherit from Vehicle, Apple can inherit from Fruit, and so on.\n",
        "\n",
        "# Method Overriding in Python Inheritance\n",
        "\n",
        "In the previous example, we see the object of the subclass can access the method of the superclass.\n",
        "\n",
        "**However, what if the same method is present in both the superclass and subclass?**\n",
        "\n",
        "In this case, the method in the subclass overrides the method in the superclass. This concept is known as method overriding in Python.\n",
        "\n"
      ]
    },
    {
      "cell_type": "code",
      "execution_count": 8,
      "metadata": {
        "id": "-de_kzE8TMnG"
      },
      "outputs": [],
      "source": [
        "class Animal():\n",
        "    def __init__(self, name, food):\n",
        "        self.name = name\n",
        "        self.fav_food = food\n",
        "    \n",
        "    # getters/setters\n",
        "    def set_name(self, name):\n",
        "        self.name = name\n",
        "    def get_name(self):\n",
        "        return self.name\n",
        "    def set_favfood(self, food):\n",
        "        self.fav_food = food\n",
        "    def get_favfood(self):\n",
        "        return self.fav_food\n",
        "\n",
        "    #methods\n",
        "    def eat(self):\n",
        "        print(\"my favorite food is: \", self.get_favfood())\n",
        "    \n",
        "    def toString(self):\n",
        "        print(\"********************\")\n",
        "        print(\"Name: \", self.get_name())\n",
        "        print(\"Favorite Food: \", self.get_favfood())\n",
        "\n",
        "class Dog(Animal):\n",
        "    def __init__(self, name, food, fav_park):\n",
        "        super().__init__(name, food)\n",
        "        self.fav_park = fav_park\n",
        "        \n",
        "    # getters/setters\n",
        "    def set_favpark(self,park):\n",
        "        self.fav_park = park\n",
        "    def get_favpark(self):\n",
        "        return self.fav_park\n",
        "    \n",
        "    def eat(self):\n",
        "        print(\"the food i enjoy the most: \", self.get_favfood())\n",
        "    \n",
        "    def toString(self):\n",
        "        print(\"Name: \", self.get_name())\n",
        "        print(\"Favorite Food: \", self.get_favfood())\n",
        "        print(\"Favorite Park: \", self.get_favpark())"
      ]
    },
    {
      "cell_type": "code",
      "execution_count": 9,
      "metadata": {
        "id": "QsHeuh8STwie"
      },
      "outputs": [
        {
          "name": "stdout",
          "output_type": "stream",
          "text": [
            "********************\n",
            "Name:  Romeo\n",
            "Favorite Food:  squeeze-it\n",
            "my favorite food is:  squeeze-it\n",
            "Name:  Kaizer\n",
            "Favorite Food:  bird\n",
            "Favorite Park:  Water Park\n",
            "the food i enjoy the most:  bird\n"
          ]
        }
      ],
      "source": [
        "if __name__ == \"__main__\":\n",
        "    cat = Animal(\"Romeo\",\"squeeze-it\")\n",
        "    dog = Dog(\"Kaizer\", \"bird\", \"Water Park\")\n",
        "    \n",
        "    cat.toString()\n",
        "    cat.eat()\n",
        "\n",
        "    dog.toString()\n",
        "    dog.eat()\n"
      ]
    },
    {
      "cell_type": "markdown",
      "metadata": {
        "id": "mfxg7RaWTxBR"
      },
      "source": [
        "In the above example, the same method eat() is present in both the Dog class and the Animal class.\n",
        "\n",
        "Now, when we call the eat() method using the object of the Dog subclass, the method of the Dog class is called.\n",
        "\n",
        "This is because the eat() method of the Dog subclass overrides the same method of the Animal superclass."
      ]
    },
    {
      "cell_type": "markdown",
      "metadata": {
        "id": "pFlBnzo1T3RX"
      },
      "source": [
        "### The super() Function in Inheritance\n",
        "Previously we saw that the same method (function) in the subclass overrides the method in the superclass.\n",
        "\n",
        "However, if we need to access the superclass method from the subclass, we use the super() function. For example,"
      ]
    },
    {
      "cell_type": "code",
      "execution_count": 10,
      "metadata": {
        "id": "tRiIK9BnUFED"
      },
      "outputs": [],
      "source": [
        "class Animal():\n",
        "    def __init__(self, name, food):\n",
        "        self.name = name\n",
        "        self.fav_food = food\n",
        "    \n",
        "    # getters/setters\n",
        "    def set_name(self, name):\n",
        "        self.name = name\n",
        "    def get_name(self):\n",
        "        return self.name\n",
        "    def set_favfood(self, food):\n",
        "        self.fav_food = food\n",
        "    def get_favfood(self):\n",
        "        return self.fav_food\n",
        "\n",
        "    #methods\n",
        "    def eat(self):\n",
        "        print(\"my favorite food is: \", self.get_favfood())\n",
        "    \n",
        "    def toString(self):\n",
        "        print(\"********************\")\n",
        "        print(\"Name: \", self.get_name())\n",
        "        print(\"Favorite Food: \", self.get_favfood())\n",
        "\n",
        "class Dog(Animal):\n",
        "    def __init__(self, name, food, fav_park):\n",
        "        super().__init__(name, food)\n",
        "        self.fav_park = fav_park\n",
        "        \n",
        "    # getters/setters\n",
        "    def set_favpark(self,park):\n",
        "        self.fav_park = park\n",
        "    def get_favpark(self):\n",
        "        return self.fav_park\n",
        "    \n",
        "    def toString(self):\n",
        "        super().toString()\n",
        "        print(\"Favorite Park: \", self.get_favpark())\n",
        "\n",
        "    # the child class overwrite functions from the parents class\n",
        "    "
      ]
    },
    {
      "cell_type": "code",
      "execution_count": 11,
      "metadata": {
        "id": "JsO00EINUJbs"
      },
      "outputs": [
        {
          "name": "stdout",
          "output_type": "stream",
          "text": [
            "********************\n",
            "Name:  Romeo\n",
            "Favorite Food:  squeeze-it\n",
            "my favorite food is:  squeeze-it\n",
            "********************\n",
            "Name:  Kaizer\n",
            "Favorite Food:  bird\n",
            "Favorite Park:  Water Park\n",
            "my favorite food is:  bird\n"
          ]
        }
      ],
      "source": [
        "if __name__ == \"__main__\":\n",
        "    cat = Animal(\"Romeo\",\"squeeze-it\")\n",
        "    dog = Dog(\"Kaizer\", \"bird\", \"Water Park\")\n",
        "    \n",
        "    cat.toString()\n",
        "    cat.eat()\n",
        "\n",
        "    dog.toString()\n",
        "    dog.eat()\n"
      ]
    },
    {
      "cell_type": "markdown",
      "metadata": {
        "id": "uUXByzJNUOUF"
      },
      "source": [
        "In the above example, the eat() method of the Dog subclass overrides the same method of the Animal superclass.\n",
        "\n",
        "Inside the Dog class, we have used"
      ]
    },
    {
      "cell_type": "code",
      "execution_count": null,
      "metadata": {
        "id": "Eca-FkdPUPAM"
      },
      "outputs": [],
      "source": [
        "# call method of superclass\n",
        "super().eat()"
      ]
    },
    {
      "cell_type": "markdown",
      "metadata": {
        "id": "8tWpsu6uURrR"
      },
      "source": [
        "to call the eat() method of the Animal superclass from the Dog subclass.\n",
        "\n",
        "So, when we call the eat() method using the labrador object"
      ]
    },
    {
      "cell_type": "code",
      "execution_count": null,
      "metadata": {
        "id": "pxU-7vp3UW6e"
      },
      "outputs": [],
      "source": [
        "# call the eat() method\n",
        "labrador.eat()"
      ]
    },
    {
      "cell_type": "markdown",
      "metadata": {
        "id": "xkJBLfJUUa4p"
      },
      "source": [
        "Both the overridden and the superclass version of the eat() method is executed.\n",
        "\n",
        "## Inheritance Types:\n",
        "\n",
        "There are 5 different types of inheritance in Python. They are:\n",
        "\n",
        "* Single Inheritance: a child class inherits from only one parent class.\n",
        "* Multiple Inheritance: a child class inherits from multiple parent classes.\n",
        "* Multilevel Inheritance: a child class inherits from its parent class, which is inheriting from its parent class.\n",
        "* Hierarchical Inheritance: more than one child class are created from a single parent class.\n",
        "* Hybrid Inheritance: combines more than one form of inheritance.\n",
        "\n",
        "\n",
        "\n",
        "![link text](https://miro.medium.com/v2/resize:fit:1400/format:webp/0*kIbbpmbxJLRjVdWn)\n",
        "\n",
        "\n",
        "# Uses of Inheritance\n",
        "\n",
        "* Code Reusability: Since a child class can inherit all the functionalities of the parent's class, this allows code reusability.\n",
        "* Efficient Development: Once a functionality is developed, we can simply inherit it which allows for cleaner code and easy maintenance.\n",
        "* Customization: Since we can also add our own functionalities in the child class, we can inherit only the useful functionalities and define other required features."
      ]
    },
    {
      "cell_type": "markdown",
      "metadata": {
        "id": "AiWON2dWVAop"
      },
      "source": [
        "# Exercices:\n",
        "1. **Vehicle Inheritance**:\n",
        "   Create a Python program that demonstrates inheritance by modeling different types of vehicles. Define a base class called `Vehicle` with attributes like `name`, `model`, and `year`. Then, create subclasses such as `Car`, `Truck`, and `Motorcycle` that inherit from the `Vehicle` class. Each subclass should have additional attributes specific to its type (e.g., `num_doors` for `Car`, `cargo_capacity` for `Truck`, `engine_size` for `Motorcycle`). Implement methods to display information about each vehicle type."
      ]
    },
    {
      "cell_type": "code",
      "execution_count": 7,
      "metadata": {
        "id": "A42odaHoVA_t"
      },
      "outputs": [],
      "source": [
        "class Vehicle: \n",
        "    def __init__(self, car_name, car_model, car_year):\n",
        "        self.name = car_name\n",
        "        self.model = car_model\n",
        "        self.year = car_year\n",
        "\n",
        "    #getters/setters\n",
        "    def set_name(self, car_name):\n",
        "        self.name = car_name\n",
        "    def get_name(self):\n",
        "        return self.name\n",
        "    def set_model(self, car_model):\n",
        "        self.model = car_model\n",
        "    def get_model(self):\n",
        "        return self.model\n",
        "    def set_year(self, car_year):\n",
        "        self.year = car_year\n",
        "    def get_year(self):\n",
        "        return self.year\n",
        "    \n",
        "    #methods\n",
        "    def honk(self):\n",
        "        print(\"HONK HONK HONK\")\n",
        "    def toString(self):\n",
        "        print(\"****************************\")\n",
        "        print(\"Vehicle Name:\",self.get_name())\n",
        "        print(\"Vehicle Model:\",self.get_model())\n",
        "        print(\"Vehicle Year:\",self.get_year())\n",
        "\n",
        "class Car(Vehicle):\n",
        "    def __init__(self, name, model, year, doors):\n",
        "        super().__init__(name, model, year)\n",
        "        self.num_doors = doors\n",
        "    \n",
        "    #getters/setters\n",
        "    def set_num_doors(self, doors):\n",
        "        self.num_doors = doors\n",
        "    def get_num_doors(self):\n",
        "        return self.num_doors\n",
        "    \n",
        "    #methods\n",
        "    def toString(self):\n",
        "        super().toString()\n",
        "        print(\"Number of Doors:\",self.get_num_doors())\n",
        "\n",
        "class Truck(Vehicle):\n",
        "    def __init__(self, name, model, year, capacity):\n",
        "        super().__init__(name, model, year)\n",
        "        self.cargo_capacity = capacity\n",
        "    \n",
        "    #getters/setters\n",
        "    def set_cargo_capacity(self, capacity):\n",
        "        self.cargo_capacity = capacity\n",
        "    def get_cargo_capacity(self):\n",
        "        return self.cargo_capacity\n",
        "    \n",
        "    #methods\n",
        "    def toString(self):\n",
        "        super().toString()\n",
        "        print(\"Cargo Capacity:\",self.get_cargo_capacity())\n",
        "\n",
        "class Motorcycle(Vehicle):\n",
        "    def __init__(self, name, model, year, motor):\n",
        "        super().__init__(name, model, year)\n",
        "        self.motor_size = motor\n",
        "    \n",
        "    #getters/setters\n",
        "    def set_motor_size(self, motor):\n",
        "        self.motor_size = motor\n",
        "    def get_motor_size(self):\n",
        "        return self.motor_size\n",
        "    \n",
        "    #methods\n",
        "    def toString(self):\n",
        "        super().toString()\n",
        "        print(\"Motor Size:\",self.get_motor_size())"
      ]
    },
    {
      "cell_type": "code",
      "execution_count": 11,
      "metadata": {},
      "outputs": [
        {
          "name": "stdout",
          "output_type": "stream",
          "text": [
            "****************************\n",
            "Vehicle Name: Bus\n",
            "Vehicle Model: VW\n",
            "Vehicle Year: 1979\n",
            "HONK HONK HONK\n",
            "Bus says: None\n",
            "****************************\n",
            "Vehicle Name: Camry\n",
            "Vehicle Model: Toyota\n",
            "Vehicle Year: 2009\n",
            "Number of Doors: 4\n",
            "HONK HONK HONK\n",
            "****************************\n",
            "Vehicle Name: F-150\n",
            "Vehicle Model: Ford\n",
            "Vehicle Year: 2011\n",
            "Cargo Capacity: 3060lbs\n",
            "HONK HONK HONK\n",
            "****************************\n",
            "Vehicle Name: Kawasaki Ninja 400\n",
            "Vehicle Model: Kawasaki\n",
            "Vehicle Year: 2018\n",
            "Motor Size: 399cc\n",
            "HONK HONK HONK\n"
          ]
        }
      ],
      "source": [
        "if __name__==\"__main__\":\n",
        "    bus = Vehicle(\"Bus\", \"VW\", 1979)\n",
        "    car = Car(\"Camry\", \"Toyota\", 2009, 4)\n",
        "    truck = Truck(\"F-150\", \"Ford\", 2011, \"3060lbs\")\n",
        "    motorcycle = Motorcycle(\"Kawasaki Ninja 400\", \"Kawasaki\", 2018, '399cc' ) \n",
        "\n",
        "    bus.toString()\n",
        "    print(\"Bus says:\", bus.honk())\n",
        "    \n",
        "    car.toString()\n",
        "    car.honk()\n",
        "\n",
        "    truck.toString()\n",
        "    truck.honk()   \n",
        "\n",
        "    motorcycle.toString()\n",
        "    motorcycle.honk() "
      ]
    },
    {
      "cell_type": "markdown",
      "metadata": {
        "id": "5rqfYXXqWeAJ"
      },
      "source": [
        "2. **Employee Inheritance**:\n",
        "   Write a Python program to model employee hierarchy using inheritance. Define a base class called `Employee` with attributes like `name`, `extra_hours`, and `salary`. Create subclasses such as `Manager`, `Developer`, and `Tester` that inherit from the `Employee` class. Each subclass should have additional attributes specific to its role (e.g., `department` for `Manager`, `programming_language` for `Developer`, `testing_tool` for `Tester`). Implement methods to calculate bonuses or salaries based on the employee's `extra_hours` where:\n",
        "   * Employee bonus is equal to salary/80 times the bonus hours times 102%\n",
        "   * Manager bonus is equal to salary/80 times the bonus hours times 112%\n",
        "   * Developer bonus is equal to salary/80 times the bonus hours times 108%\n",
        "   * Tester bonus is equal to salary/80 times the bonus hours times 105%\n"
      ]
    },
    {
      "cell_type": "code",
      "execution_count": null,
      "metadata": {
        "id": "YBd60WulWg6S"
      },
      "outputs": [],
      "source": []
    },
    {
      "cell_type": "markdown",
      "metadata": {
        "id": "YrHecaFxWhNQ"
      },
      "source": [
        "3. **Shape Inheritance**:\n",
        "   Implement a Python program to model geometric shapes using inheritance. Define a base class called `Shape` with methods to calculate area and perimeter. Create subclasses such as `Circle`, `Rectangle`, and `Triangle` that inherit from the `Shape` class. Each subclass should implement its own methods to calculate area and perimeter based on its specific attributes (e.g., `radius` for `Circle`, `length` and `width` for `Rectangle`, `base` and `height` for `Triangle`). Test the program by creating instances of different shapes and calculating their areas and perimeters."
      ]
    },
    {
      "cell_type": "code",
      "execution_count": null,
      "metadata": {
        "id": "nTgMKhQ9Wht7"
      },
      "outputs": [],
      "source": []
    },
    {
      "cell_type": "code",
      "execution_count": null,
      "metadata": {
        "colab": {
          "base_uri": "https://localhost:8080/"
        },
        "id": "oLuzrLcA-4gj",
        "outputId": "5d6ead69-cd93-48f2-8964-1045546bb814"
      },
      "outputs": [],
      "source": []
    },
    {
      "cell_type": "markdown",
      "metadata": {
        "id": "v56KK-r2Vvi3"
      },
      "source": [
        "References:\n",
        "\n",
        "[OPP principles](https://www.educative.io/blog/object-oriented-programming)\n",
        "\n",
        "[Inheritance](https://www.programiz.com/python-programming/inheritance)"
      ]
    }
  ],
  "metadata": {
    "colab": {
      "provenance": []
    },
    "kernelspec": {
      "display_name": "Python 3",
      "language": "python",
      "name": "python3"
    },
    "language_info": {
      "codemirror_mode": {
        "name": "ipython",
        "version": 3
      },
      "file_extension": ".py",
      "mimetype": "text/x-python",
      "name": "python",
      "nbconvert_exporter": "python",
      "pygments_lexer": "ipython3",
      "version": "3.13.0"
    }
  },
  "nbformat": 4,
  "nbformat_minor": 0
}
