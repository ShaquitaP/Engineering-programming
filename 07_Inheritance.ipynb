{
  "cells": [
    {
      "cell_type": "markdown",
      "metadata": {
        "id": "-pC-gsf75iU3"
      },
      "source": [
        "\n",
        "**Object Orientation Programming**\n",
        "> **Professor: Sthefanie Passo**\n",
        "\n",
        "> **E-mail: sthefaniepasso@gmail.com**!\n"
      ]
    },
    {
      "cell_type": "markdown",
      "metadata": {
        "id": "kT0a6Uku5w1u"
      },
      "source": [
        "# Four Principles of OOP\n",
        "The four pillars of object-oriented programming are:\n",
        "\n",
        "* Inheritance: child classes inherit data and behaviors from the parent class\n",
        "* Encapsulation: containing information in an object, exposing only selected information\n",
        "* Abstraction: only exposing high-level public methods for accessing an object\n",
        "* Polymorphism: many methods can do the same task\n",
        "\n",
        "# Python Inheritance\n",
        "\n",
        "Being an object-oriented language, Python supports class inheritance. It allows us to create a new class from an existing one.\n",
        "\n",
        "* The newly created class is known as the subclass (child or derived class).\n",
        "* The existing class from which the child class inherits is known as the superclass (parent or base class).\n",
        "\n",
        "**Python Inheritance Syntax:**\n",
        "\n",
        "\n",
        "```\n",
        "# define a superclass\n",
        "class super_class:\n",
        "    # attributes and method definition\n",
        "\n",
        "# inheritance\n",
        "class sub_class(super_class):\n",
        "    # attributes and method of super_class\n",
        "    # attributes and method of sub_class\n",
        "```\n",
        "Here, we are inheriting the sub_class from the super_class.\n",
        "\n",
        "**Example: Create class Animal. Each Animal have a name can have the functionality to eat(). Create the Class Dog that is a subclass from Animal and also have the toString() method.**\n"
      ]
    },
    {
      "cell_type": "code",
      "execution_count": 4,
      "metadata": {
        "id": "HrlTgY3u5eVA"
      },
      "outputs": [],
      "source": [
        "class Animal():\n",
        "    def __init__(self, name, food):\n",
        "        self.name = name\n",
        "        self.fav_food = food\n",
        "    \n",
        "    # getters/setters\n",
        "    def set_name(self, name):\n",
        "        self.name = name\n",
        "    def get_name(self):\n",
        "        return self.name\n",
        "    def set_favfood(self, food):\n",
        "        self.fav_food = food\n",
        "    def get_favfood(self):\n",
        "        return self.fav_food\n",
        "\n",
        "    #methods\n",
        "    def eat(self):\n",
        "        print(\"my favorite food is: \", self.get_favfood())\n",
        "    \n",
        "    def toString(self):\n",
        "        print(\"********************\")\n",
        "        print(\"Name: \", self.get_name())\n",
        "        print(\"Favorite Food: \", self.get_favfood())\n",
        "\n",
        "class Dog(Animal):\n",
        "    def __init__(self, name, food, fav_park):\n",
        "        super().__init__(name, food)\n",
        "        self.fav_park = fav_park\n",
        "        \n",
        "    # getters/setters\n",
        "    def set_favpark(self,park):\n",
        "        self.fav_park = park\n",
        "    def get_favpark(self):\n",
        "        return self.fav_park\n",
        "    \n",
        "    def toString(self):\n",
        "        print(\"Name: \", self.get_name())\n",
        "        print(\"Favorite Food: \", self.get_favfood())\n",
        "        print(\"Favorite Park: \", self.get_favpark())"
      ]
    },
    {
      "cell_type": "code",
      "execution_count": 6,
      "metadata": {
        "colab": {
          "base_uri": "https://localhost:8080/"
        },
        "id": "OvjdPfSVS2l1",
        "outputId": "e49905a6-70c1-4cfe-f35b-22120bba9c77"
      },
      "outputs": [
        {
          "name": "stdout",
          "output_type": "stream",
          "text": [
            "********************\n",
            "Name:  Romeo\n",
            "Favorite Food:  squeeze-it\n",
            "my favorite food is:  squeeze-it\n",
            "********************\n",
            "Name:  Kaizer\n",
            "Favorite Food:  bird\n",
            "Favorite Park:  Water Park\n",
            "my favorite food is:  bird\n"
          ]
        }
      ],
      "source": [
        "if __name__ == \"__main__\":\n",
        "    cat = Animal(\"Romeo\",\"squeeze-it\")\n",
        "    dog = Dog(\"Kaizer\", \"bird\", \"Water Park\")\n",
        "    \n",
        "    cat.toString()\n",
        "    cat.eat()\n",
        "\n",
        "    dog.toString()\n",
        "    dog.eat()\n"
      ]
    },
    {
      "cell_type": "markdown",
      "metadata": {
        "id": "lQ-fqQxWS1l4"
      },
      "source": [
        "In the above example, we have derived a subclass Dog from a superclass Animal. Notice the statements,"
      ]
    },
    {
      "cell_type": "code",
      "execution_count": 7,
      "metadata": {
        "id": "Dt6UTf-YS7rW"
      },
      "outputs": [
        {
          "name": "stdout",
          "output_type": "stream",
          "text": [
            "my favorite food is:  bones\n"
          ]
        }
      ],
      "source": [
        "labrador =  Dog(\" \", \"bones\", \"splash-pad\")\n",
        "labrador.set_name(\"Oreo\")\n",
        "labrador.eat()"
      ]
    },
    {
      "cell_type": "markdown",
      "metadata": {
        "id": "suc8aQrsTSVH"
      },
      "source": [
        "Here, we are using labrador (object of Dog) to access name and eat() of the Animal class.\n",
        "\n",
        "This is possible because the subclass inherits all attributes and methods of the superclass.\n",
        "\n",
        "Also, we have accessed the name attribute inside the method of the Dog class using self.\n",
        "\n",
        "![link text](https://www.programiz.com/sites/tutorial2program/files/python-inheritance-example.png)\n",
        "\n",
        "# is-a relationship\n",
        "Inheritance is an is-a relationship. That is, we use inheritance only if there exists an is-a relationship between two classes. For example,\n",
        "\n",
        "* Car is a Vehicle\n",
        "* Apple is a Fruit\n",
        "* Cat is an Animal\n",
        "\n",
        "Here, Car can inherit from Vehicle, Apple can inherit from Fruit, and so on.\n",
        "\n",
        "# Method Overriding in Python Inheritance\n",
        "\n",
        "In the previous example, we see the object of the subclass can access the method of the superclass.\n",
        "\n",
        "**However, what if the same method is present in both the superclass and subclass?**\n",
        "\n",
        "In this case, the method in the subclass overrides the method in the superclass. This concept is known as method overriding in Python.\n",
        "\n"
      ]
    },
    {
      "cell_type": "code",
      "execution_count": 8,
      "metadata": {
        "id": "-de_kzE8TMnG"
      },
      "outputs": [],
      "source": [
        "class Animal():\n",
        "    def __init__(self, name, food):\n",
        "        self.name = name\n",
        "        self.fav_food = food\n",
        "    \n",
        "    # getters/setters\n",
        "    def set_name(self, name):\n",
        "        self.name = name\n",
        "    def get_name(self):\n",
        "        return self.name\n",
        "    def set_favfood(self, food):\n",
        "        self.fav_food = food\n",
        "    def get_favfood(self):\n",
        "        return self.fav_food\n",
        "\n",
        "    #methods\n",
        "    def eat(self):\n",
        "        print(\"my favorite food is: \", self.get_favfood())\n",
        "    \n",
        "    def toString(self):\n",
        "        print(\"********************\")\n",
        "        print(\"Name: \", self.get_name())\n",
        "        print(\"Favorite Food: \", self.get_favfood())\n",
        "\n",
        "class Dog(Animal):\n",
        "    def __init__(self, name, food, fav_park):\n",
        "        super().__init__(name, food)\n",
        "        self.fav_park = fav_park\n",
        "        \n",
        "    # getters/setters\n",
        "    def set_favpark(self,park):\n",
        "        self.fav_park = park\n",
        "    def get_favpark(self):\n",
        "        return self.fav_park\n",
        "    \n",
        "    def eat(self):\n",
        "        print(\"the food i enjoy the most: \", self.get_favfood())\n",
        "    \n",
        "    def toString(self):\n",
        "        print(\"Name: \", self.get_name())\n",
        "        print(\"Favorite Food: \", self.get_favfood())\n",
        "        print(\"Favorite Park: \", self.get_favpark())"
      ]
    },
    {
      "cell_type": "code",
      "execution_count": 9,
      "metadata": {
        "id": "QsHeuh8STwie"
      },
      "outputs": [
        {
          "name": "stdout",
          "output_type": "stream",
          "text": [
            "********************\n",
            "Name:  Romeo\n",
            "Favorite Food:  squeeze-it\n",
            "my favorite food is:  squeeze-it\n",
            "Name:  Kaizer\n",
            "Favorite Food:  bird\n",
            "Favorite Park:  Water Park\n",
            "the food i enjoy the most:  bird\n"
          ]
        }
      ],
      "source": [
        "if __name__ == \"__main__\":\n",
        "    cat = Animal(\"Romeo\",\"squeeze-it\")\n",
        "    dog = Dog(\"Kaizer\", \"bird\", \"Water Park\")\n",
        "    \n",
        "    cat.toString()\n",
        "    cat.eat()\n",
        "\n",
        "    dog.toString()\n",
        "    dog.eat()\n"
      ]
    },
    {
      "cell_type": "markdown",
      "metadata": {
        "id": "mfxg7RaWTxBR"
      },
      "source": [
        "In the above example, the same method eat() is present in both the Dog class and the Animal class.\n",
        "\n",
        "Now, when we call the eat() method using the object of the Dog subclass, the method of the Dog class is called.\n",
        "\n",
        "This is because the eat() method of the Dog subclass overrides the same method of the Animal superclass."
      ]
    },
    {
      "cell_type": "markdown",
      "metadata": {
        "id": "pFlBnzo1T3RX"
      },
      "source": [
        "### The super() Function in Inheritance\n",
        "Previously we saw that the same method (function) in the subclass overrides the method in the superclass.\n",
        "\n",
        "However, if we need to access the superclass method from the subclass, we use the super() function. For example,"
      ]
    },
    {
      "cell_type": "code",
      "execution_count": 10,
      "metadata": {
        "id": "tRiIK9BnUFED"
      },
      "outputs": [],
      "source": [
        "class Animal():\n",
        "    def __init__(self, name, food):\n",
        "        self.name = name\n",
        "        self.fav_food = food\n",
        "    \n",
        "    # getters/setters\n",
        "    def set_name(self, name):\n",
        "        self.name = name\n",
        "    def get_name(self):\n",
        "        return self.name\n",
        "    def set_favfood(self, food):\n",
        "        self.fav_food = food\n",
        "    def get_favfood(self):\n",
        "        return self.fav_food\n",
        "\n",
        "    #methods\n",
        "    def eat(self):\n",
        "        print(\"my favorite food is: \", self.get_favfood())\n",
        "    \n",
        "    def toString(self):\n",
        "        print(\"********************\")\n",
        "        print(\"Name: \", self.get_name())\n",
        "        print(\"Favorite Food: \", self.get_favfood())\n",
        "\n",
        "class Dog(Animal):\n",
        "    def __init__(self, name, food, fav_park):\n",
        "        super().__init__(name, food)\n",
        "        self.fav_park = fav_park\n",
        "        \n",
        "    # getters/setters\n",
        "    def set_favpark(self,park):\n",
        "        self.fav_park = park\n",
        "    def get_favpark(self):\n",
        "        return self.fav_park\n",
        "    \n",
        "    def toString(self):\n",
        "        super().toString()\n",
        "        print(\"Favorite Park: \", self.get_favpark())\n",
        "\n",
        "    # the child class overwrite functions from the parents class\n",
        "    "
      ]
    },
    {
      "cell_type": "code",
      "execution_count": 11,
      "metadata": {
        "id": "JsO00EINUJbs"
      },
      "outputs": [
        {
          "name": "stdout",
          "output_type": "stream",
          "text": [
            "********************\n",
            "Name:  Romeo\n",
            "Favorite Food:  squeeze-it\n",
            "my favorite food is:  squeeze-it\n",
            "********************\n",
            "Name:  Kaizer\n",
            "Favorite Food:  bird\n",
            "Favorite Park:  Water Park\n",
            "my favorite food is:  bird\n"
          ]
        }
      ],
      "source": [
        "if __name__ == \"__main__\":\n",
        "    cat = Animal(\"Romeo\",\"squeeze-it\")\n",
        "    dog = Dog(\"Kaizer\", \"bird\", \"Water Park\")\n",
        "    \n",
        "    cat.toString()\n",
        "    cat.eat()\n",
        "\n",
        "    dog.toString()\n",
        "    dog.eat()\n"
      ]
    },
    {
      "cell_type": "markdown",
      "metadata": {
        "id": "uUXByzJNUOUF"
      },
      "source": [
        "In the above example, the eat() method of the Dog subclass overrides the same method of the Animal superclass.\n",
        "\n",
        "Inside the Dog class, we have used"
      ]
    },
    {
      "cell_type": "code",
      "execution_count": null,
      "metadata": {
        "id": "Eca-FkdPUPAM"
      },
      "outputs": [],
      "source": [
        "# call method of superclass\n",
        "super().eat()"
      ]
    },
    {
      "cell_type": "markdown",
      "metadata": {
        "id": "8tWpsu6uURrR"
      },
      "source": [
        "to call the eat() method of the Animal superclass from the Dog subclass.\n",
        "\n",
        "So, when we call the eat() method using the labrador object"
      ]
    },
    {
      "cell_type": "code",
      "execution_count": null,
      "metadata": {
        "id": "pxU-7vp3UW6e"
      },
      "outputs": [],
      "source": [
        "# call the eat() method\n",
        "labrador.eat()"
      ]
    },
    {
      "cell_type": "markdown",
      "metadata": {
        "id": "xkJBLfJUUa4p"
      },
      "source": [
        "Both the overridden and the superclass version of the eat() method is executed.\n",
        "\n",
        "## Inheritance Types:\n",
        "\n",
        "There are 5 different types of inheritance in Python. They are:\n",
        "\n",
        "* Single Inheritance: a child class inherits from only one parent class.\n",
        "* Multiple Inheritance: a child class inherits from multiple parent classes.\n",
        "* Multilevel Inheritance: a child class inherits from its parent class, which is inheriting from its parent class.\n",
        "* Hierarchical Inheritance: more than one child class are created from a single parent class.\n",
        "* Hybrid Inheritance: combines more than one form of inheritance.\n",
        "\n",
        "\n",
        "\n",
        "![link text](https://miro.medium.com/v2/resize:fit:1400/format:webp/0*kIbbpmbxJLRjVdWn)\n",
        "\n",
        "\n",
        "# Uses of Inheritance\n",
        "\n",
        "* Code Reusability: Since a child class can inherit all the functionalities of the parent's class, this allows code reusability.\n",
        "* Efficient Development: Once a functionality is developed, we can simply inherit it which allows for cleaner code and easy maintenance.\n",
        "* Customization: Since we can also add our own functionalities in the child class, we can inherit only the useful functionalities and define other required features."
      ]
    },
    {
      "cell_type": "markdown",
      "metadata": {
        "id": "AiWON2dWVAop"
      },
      "source": [
        "# Exercices:\n",
        "1. **Vehicle Inheritance**:\n",
        "   Create a Python program that demonstrates inheritance by modeling different types of vehicles. Define a base class called `Vehicle` with attributes like `name`, `model`, and `year`. Then, create subclasses such as `Car`, `Truck`, and `Motorcycle` that inherit from the `Vehicle` class. Each subclass should have additional attributes specific to its type (e.g., `num_doors` for `Car`, `cargo_capacity` for `Truck`, `engine_size` for `Motorcycle`). Implement methods to display information about each vehicle type."
      ]
    },
    {
      "cell_type": "code",
      "execution_count": 1,
      "metadata": {
        "id": "A42odaHoVA_t"
      },
      "outputs": [],
      "source": [
        "class Vehicle: \n",
        "    def __init__(self, car_name, car_model, car_year):\n",
        "        self.name = car_name\n",
        "        self.model = car_model\n",
        "        self.year = car_year\n",
        "\n",
        "    #getters/setters\n",
        "    def set_name(self, car_name):\n",
        "        self.name = car_name\n",
        "    def get_name(self):\n",
        "        return self.name\n",
        "    def set_model(self, car_model):\n",
        "        self.model = car_model\n",
        "    def get_model(self):\n",
        "        return self.model\n",
        "    def set_year(self, car_year):\n",
        "        self.year = car_year\n",
        "    def get_year(self):\n",
        "        return self.year\n",
        "    \n",
        "    #methods\n",
        "    def honk(self):\n",
        "        print(\"HONK HONK HONK\")\n",
        "    def toString(self):\n",
        "        print(\"****************************\")\n",
        "        print(\"Vehicle Name:\",self.get_name())\n",
        "        print(\"Vehicle Model:\",self.get_model())\n",
        "        print(\"Vehicle Year:\",self.get_year())\n",
        "\n",
        "class Car(Vehicle):\n",
        "    def __init__(self, name, model, year, doors):\n",
        "        super().__init__(name, model, year)\n",
        "        self.num_doors = doors\n",
        "    \n",
        "    #getters/setters\n",
        "    def set_num_doors(self, doors):\n",
        "        self.num_doors = doors\n",
        "    def get_num_doors(self):\n",
        "        return self.num_doors\n",
        "    \n",
        "    #methods\n",
        "    def toString(self):\n",
        "        super().toString()\n",
        "        print(\"Number of Doors:\",self.get_num_doors())\n",
        "\n",
        "class Truck(Vehicle):\n",
        "    def __init__(self, name, model, year, capacity):\n",
        "        super().__init__(name, model, year)\n",
        "        self.cargo_capacity = capacity\n",
        "    \n",
        "    #getters/setters\n",
        "    def set_cargo_capacity(self, capacity):\n",
        "        self.cargo_capacity = capacity\n",
        "    def get_cargo_capacity(self):\n",
        "        return self.cargo_capacity\n",
        "    \n",
        "    #methods\n",
        "    def toString(self):\n",
        "        super().toString()\n",
        "        print(\"Cargo Capacity:\",self.get_cargo_capacity())\n",
        "\n",
        "class Motorcycle(Vehicle):\n",
        "    def __init__(self, name, model, year, motor):\n",
        "        super().__init__(name, model, year)\n",
        "        self.motor_size = motor\n",
        "    \n",
        "    #getters/setters\n",
        "    def set_motor_size(self, motor):\n",
        "        self.motor_size = motor\n",
        "    def get_motor_size(self):\n",
        "        return self.motor_size\n",
        "    \n",
        "    #methods\n",
        "    def toString(self):\n",
        "        super().toString()\n",
        "        print(\"Motor Size:\",self.get_motor_size())"
      ]
    },
    {
      "cell_type": "code",
      "execution_count": 15,
      "metadata": {},
      "outputs": [
        {
          "name": "stdout",
          "output_type": "stream",
          "text": [
            "****************************\n",
            "Vehicle Name: Bus\n",
            "Vehicle Model: VW\n",
            "Vehicle Year: 1979\n",
            "HONK HONK HONK\n",
            "****************************\n",
            "Vehicle Name: Camry\n",
            "Vehicle Model: Toyota\n",
            "Vehicle Year: 2009\n",
            "Number of Doors: 4\n",
            "HONK HONK HONK\n",
            "****************************\n",
            "Vehicle Name: F-150\n",
            "Vehicle Model: Ford\n",
            "Vehicle Year: 2011\n",
            "Cargo Capacity: 3060lbs\n",
            "HONK HONK HONK\n",
            "****************************\n",
            "Vehicle Name: Kawasaki Ninja 400\n",
            "Vehicle Model: Kawasaki\n",
            "Vehicle Year: 2018\n",
            "Motor Size: 399cc\n",
            "HONK HONK HONK\n"
          ]
        }
      ],
      "source": [
        "if __name__==\"__main__\":\n",
        "    bus = Vehicle(\"Bus\", \"VW\", 1979)\n",
        "    car = Car(\"Camry\", \"Toyota\", 2009, 4)\n",
        "    truck = Truck(\"F-150\", \"Ford\", 2011, \"3060lbs\")\n",
        "    motorcycle = Motorcycle(\"Kawasaki Ninja 400\", \"Kawasaki\", 2018, '399cc' ) \n",
        "\n",
        "    bus.toString()\n",
        "    bus.honk()\n",
        "    \n",
        "    car.toString()\n",
        "    car.honk()\n",
        "\n",
        "    truck.toString()\n",
        "    truck.honk()   \n",
        "\n",
        "    motorcycle.toString()\n",
        "    motorcycle.honk() "
      ]
    },
    {
      "cell_type": "markdown",
      "metadata": {
        "id": "5rqfYXXqWeAJ"
      },
      "source": [
        "2. **Employee Inheritance**:\n",
        "   Write a Python program to model employee hierarchy using inheritance. Define a base class called `Employee` with attributes like `name`, `extra_hours`, and `salary`. Create subclasses such as `Manager`, `Developer`, and `Tester` that inherit from the `Employee` class. Each subclass should have additional attributes specific to its role (e.g., `department` for `Manager`, `programming_language` for `Developer`, `testing_tool` for `Tester`). Implement methods to calculate bonuses or salaries based on the employee's `extra_hours` where:\n",
        "   * Employee bonus is equal to salary/80 times the bonus hours times 102%\n",
        "   * Manager bonus is equal to salary/80 times the bonus hours times 112%\n",
        "   * Developer bonus is equal to salary/80 times the bonus hours times 108%\n",
        "   * Tester bonus is equal to salary/80 times the bonus hours times 105%\n"
      ]
    },
    {
      "cell_type": "code",
      "execution_count": 3,
      "metadata": {
        "id": "YBd60WulWg6S"
      },
      "outputs": [],
      "source": [
        "class Employee:\n",
        "    def __init__(self, employee_name, extra_hours, employee_salary):\n",
        "        self.name = employee_name\n",
        "        self.extra_hours = extra_hours\n",
        "        self.salary = employee_salary\n",
        "\n",
        "    #getters/setters\n",
        "    def set_name(self, employee_name):\n",
        "        self.name = employee_name\n",
        "    def get_name(self):\n",
        "        return self.name\n",
        "    def set_extra_hours(self, extra_hours):\n",
        "        self.extra_hours = extra_hours\n",
        "    def get_extra_hours(self):\n",
        "        return self.extra_hours\n",
        "    def set_salary(self, employee_salary):\n",
        "        self.salary = employee_salary\n",
        "    def get_salary(self):\n",
        "        return self.salary\n",
        "    \n",
        "\n",
        "    #methods\n",
        "    def employee_bonus(self):\n",
        "        self.employee_bonus = ((self.salary / 80) * self.get_extra_hours() * 1.02)\n",
        "        print(\"Employee Bonus Salary: %.2f\"%self.employee_bonus)\n",
        "        return self.employee_bonus\n",
        "    def toString(self):\n",
        "        print(\"***********************************\")\n",
        "        print(\"Employee Name:\",self.get_name())\n",
        "        print(\"Employee Salary:\",self.get_salary())\n",
        "        print(\"Extra Hours:\",self.get_extra_hours())\n",
        "\n",
        "class Manager(Employee):\n",
        "    def __init__(self, name, extra_hours, salary, manager_department):\n",
        "        super().__init__(name, extra_hours, salary)\n",
        "        self.department = manager_department\n",
        "    \n",
        "    #getters/setters\n",
        "    def set_department(self, manager_department):\n",
        "        self.department = manager_department\n",
        "    def get_department(self):\n",
        "        return self.department\n",
        "    \n",
        "    #methods\n",
        "    def employee_bonus(self):\n",
        "        self.employee_bonus = ((self.salary / 80) * self.get_extra_hours() * 1.12)\n",
        "        print(\"Manager Bonus Salary: %.2f\"%self.employee_bonus)\n",
        "        return self.employee_bonus\n",
        "    def toString(self):\n",
        "        super().toString()\n",
        "        print(\"Department:\",self.get_department())\n",
        "\n",
        "class Developer(Employee):\n",
        "    def __init__(self, name, extra_hours, salary, language):\n",
        "        super().__init__(name, extra_hours, salary)\n",
        "        self.programming_language = language\n",
        "    \n",
        "    #getters/setters\n",
        "    def set_programming_language(self, language):\n",
        "        self.programming_language = language\n",
        "    def get_programming_language(self):\n",
        "        return self.programming_language\n",
        "    \n",
        "    #methods\n",
        "    def employee_bonus(self):\n",
        "        self.employee_bonus = ((self.salary / 80) * self.get_extra_hours() * 1.08)\n",
        "        print(\"Developer Bonus Salary: %.2f\"%self.employee_bonus)\n",
        "        return self.employee_bonus\n",
        "    def toString(self):\n",
        "        super().toString()\n",
        "        print(\"Programming Language:\",self.get_programming_language())\n",
        "    \n",
        "class Tester(Employee):\n",
        "    def __init__(self, name, extra_hours, salary, tool):\n",
        "        super().__init__(name, extra_hours, salary)\n",
        "        self.testing_tool = tool\n",
        "    \n",
        "    #getters/setters\n",
        "    def set_testing_tool(self, tool):\n",
        "        self.testing_tool = tool\n",
        "    def get_testing_tool(self):\n",
        "        return self.testing_tool\n",
        "    \n",
        "    #methods\n",
        "    def employee_bonus(self):\n",
        "        self.employee_bonus = ((self.salary / 80) * self.get_extra_hours() * 1.05)\n",
        "        print(\"Tester Bonus Salary:%.2f\"%self.employee_bonus)\n",
        "        return self.employee_bonus\n",
        "    def toString(self):\n",
        "        super().toString()\n",
        "        print(\"Testing Tool:\",self.get_testing_tool())"
      ]
    },
    {
      "cell_type": "code",
      "execution_count": 4,
      "metadata": {},
      "outputs": [
        {
          "name": "stdout",
          "output_type": "stream",
          "text": [
            "***********************************\n",
            "Employee Name: Bob\n",
            "Employee Salary: 50000\n",
            "Extra Hours: 10\n",
            "Employee Bonus Salary: 6375.00\n",
            "***********************************\n",
            "Employee Name: Nadja\n",
            "Employee Salary: 50000\n",
            "Extra Hours: 10\n",
            "Department: Accounting\n",
            "Manager Bonus Salary: 7000.00\n",
            "***********************************\n",
            "Employee Name: Kevin\n",
            "Employee Salary: 50000\n",
            "Extra Hours: 10\n",
            "Programming Language: python\n",
            "Developer Bonus Salary: 6750.00\n",
            "***********************************\n",
            "Employee Name: Ashley\n",
            "Employee Salary: 50000\n",
            "Extra Hours: 10\n",
            "Testing Tool: JMeter\n",
            "Tester Bonus Salary:6562.50\n"
          ]
        }
      ],
      "source": [
        "if __name__==\"__main__\":\n",
        "    person1 = Employee(\"Bob\", 10, 50000)\n",
        "    person2 = Manager(\"Nadja\", 10, 50000, \"Accounting\")\n",
        "    person3 = Developer(\"Kevin\", 10, 50000, \"python\")\n",
        "    person4 = Tester(\"Ashley\", 10, 50000, \"JMeter\")\n",
        "\n",
        "    person1.toString()\n",
        "    person1.employee_bonus()\n",
        "    \n",
        "    person2.toString()\n",
        "    person2.employee_bonus()\n",
        "\n",
        "    person3.toString()\n",
        "    person3.employee_bonus()\n",
        "\n",
        "    person4.toString()\n",
        "    person4.employee_bonus()\n"
      ]
    },
    {
      "cell_type": "code",
      "execution_count": 2,
      "metadata": {},
      "outputs": [
        {
          "name": "stdout",
          "output_type": "stream",
          "text": [
            "***********************************\n",
            "Employee Name: Bob\n",
            "Employee Salary: 50000\n",
            "Extra Hours: 10\n",
            "Employee Bonus Salary: 6375.00\n",
            "***********************************\n",
            "Employee Name: Nadja\n",
            "Employee Salary: 60000\n",
            "Extra Hours: 20\n",
            "Department: Accounting\n",
            "Manager Bonus Salary: 16800.00\n",
            "***********************************\n",
            "Employee Name: Kevin\n",
            "Employee Salary: 70000\n",
            "Extra Hours: 30\n",
            "Programming Language: python\n",
            "Developer Bonus Salary: 28350.00\n",
            "***********************************\n",
            "Employee Name: Ashley\n",
            "Employee Salary: 80000\n",
            "Extra Hours: 40\n",
            "Testing Tool: JMeter\n",
            "Tester Bonus Salary:42000.00\n"
          ]
        }
      ],
      "source": [
        "if __name__==\"__main__\":\n",
        "    person1 = Employee(\"Bob\", 10, 50000)\n",
        "    person2 = Manager(\"Nadja\", 20, 60000, \"Accounting\")\n",
        "    person3 = Developer(\"Kevin\", 30, 70000, \"python\")\n",
        "    person4 = Tester(\"Ashley\", 40, 80000, \"JMeter\")\n",
        "\n",
        "    person1.toString()\n",
        "    person1.employee_bonus()\n",
        "    \n",
        "    person2.toString()\n",
        "    person2.employee_bonus()\n",
        "\n",
        "    person3.toString()\n",
        "    person3.employee_bonus()\n",
        "\n",
        "    person4.toString()\n",
        "    person4.employee_bonus()\n",
        "\n",
        "\n"
      ]
    },
    {
      "cell_type": "markdown",
      "metadata": {
        "id": "YrHecaFxWhNQ"
      },
      "source": [
        "3. **Shape Inheritance**:\n",
        "   Implement a Python program to model geometric shapes using inheritance. Define a base class called `Shape` with methods to calculate area and perimeter. Create subclasses such as `Circle`, `Rectangle`, and `Triangle` that inherit from the `Shape` class. Each subclass should implement its own methods to calculate area and perimeter based on its specific attributes (e.g., `radius` for `Circle`, `length` and `width` for `Rectangle`, `base` and `height` for `Triangle`). Test the program by creating instances of different shapes and calculating their areas and perimeters."
      ]
    },
    {
      "cell_type": "code",
      "execution_count": 38,
      "metadata": {
        "id": "nTgMKhQ9Wht7"
      },
      "outputs": [],
      "source": [
        "class Shape:\n",
        "    def __init__(self, name, side1):\n",
        "        self.name = name\n",
        "        self.side1 = side1\n",
        "\n",
        "    #getters/setters\n",
        "    def set_name(self, name):\n",
        "        self.name = name\n",
        "    def get_name(self):\n",
        "        return self.name\n",
        "    def set_side1(self, side1):\n",
        "        self.side1 = side1\n",
        "    def get_side1(self):\n",
        "        return self.side1\n",
        "    \n",
        "    #methods\n",
        "    def area(self):\n",
        "        return self.side1**2\n",
        "    def perimeter(self):\n",
        "        return self.side1 * 4\n",
        "    def toString(self):\n",
        "        print(\"*****************************\")\n",
        "        print(\"Name:\",self.get_name())\n",
        "        print(\"Area: %.3f\"%self.area())\n",
        "        print(\"Perimeter: %.3f\"%self.perimeter())\n",
        "\n",
        "class Circle(Shape):\n",
        "    def __init__(self, name, radius):\n",
        "        super().__init__(name, radius)    \n",
        "        self.radius = radius\n",
        "\n",
        "    #getters/setters\n",
        "    def set_radius(self, radius):\n",
        "        self.radius = radius\n",
        "    def get_radius(self):\n",
        "        return self.radius\n",
        "    \n",
        "    #methods\n",
        "    def area(self):\n",
        "        PI = 3.14\n",
        "        self.area = PI * self.radius**2\n",
        "        return self.area\n",
        "    def perimeter(self):\n",
        "        PI = 3.14\n",
        "        self.perimeter = 2 * PI * self.radius \n",
        "        return self.perimeter\n",
        "\n",
        "\n",
        "class Rectangle(Shape):\n",
        "    def __init__(self, name, side1, side2):\n",
        "        super().__init__(name, side1)    \n",
        "        self.side1 = side1\n",
        "        self.side2 = side2\n",
        "\n",
        "    #getters/setters\n",
        "    def set_side1(self, side1):\n",
        "        self.side1 = side1\n",
        "    def get_side1(self):\n",
        "        return self.side1\n",
        "    def set_side2(self, side2):\n",
        "        self.side2 = side2\n",
        "    def get_side2(self):\n",
        "        return self.side2\n",
        "    \n",
        "    \n",
        "    #methods\n",
        "    def area(self):\n",
        "        self.area = self.side1 * self.side2\n",
        "        return self.area\n",
        "    def perimeter(self):\n",
        "        self.perimeter = 2 * (self.side1 + self.side2) \n",
        "        return self.perimeter\n",
        "\n",
        "\n",
        "class Triangle(Shape):\n",
        "    def __init__(self, name, side1, side2, side3, height):\n",
        "        super().__init__(name, side1)    \n",
        "        self.side1 = side1\n",
        "        self.side2 = side2\n",
        "        self.side3 = side3\n",
        "        self.height = height\n",
        "\n",
        "    #getters/setters\n",
        "    def set_side1(self, side1):\n",
        "        self.side1 = side1\n",
        "    def get_side1(self):\n",
        "        return self.side1\n",
        "    def set_side2(self, side2):\n",
        "        self.side2 = side2\n",
        "    def get_side2(self):\n",
        "        return self.side2\n",
        "    def set_side3(self, side3):\n",
        "        self.side3 = side3\n",
        "    def get_side3(self):\n",
        "        return self.side3\n",
        "    def set_height(self, height):\n",
        "        self.height = height\n",
        "    def get_height(self):\n",
        "        return self.height\n",
        "    \n",
        "    \n",
        "    #methods\n",
        "    def area(self):\n",
        "        self.area = 0.5 * self.side2 * self.height\n",
        "        return self.area\n",
        "    def perimeter(self):\n",
        "        self.perimeter = self.side1 + self.side2 + self.side3\n",
        "        return self.perimeter\n",
        "\n"
      ]
    },
    {
      "cell_type": "code",
      "execution_count": 39,
      "metadata": {
        "colab": {
          "base_uri": "https://localhost:8080/"
        },
        "id": "oLuzrLcA-4gj",
        "outputId": "5d6ead69-cd93-48f2-8964-1045546bb814"
      },
      "outputs": [
        {
          "name": "stdout",
          "output_type": "stream",
          "text": [
            "*****************************\n",
            "Name: Square\n",
            "Area: 100.000\n",
            "Perimeter: 40.000\n",
            "*****************************\n",
            "Name: Rectangle\n",
            "Area: 200.000\n",
            "Perimeter: 60.000\n",
            "*****************************\n",
            "Name: Circle\n",
            "Area: 314.000\n",
            "Perimeter: 62.800\n",
            "*****************************\n",
            "Name: Triangle\n",
            "Area: 400.000\n",
            "Perimeter: 60.000\n"
          ]
        }
      ],
      "source": [
        "if __name__==\"__main__\":\n",
        "    square = Shape(\"Square\", 10)\n",
        "    rectangle = Rectangle(\"Rectangle\", 10, 20)\n",
        "    circle = Circle(\"Circle\", 10.0)\n",
        "    triangle = Triangle(\"Triangle\", 10, 20, 30, 40)\n",
        "\n",
        "    square.toString()\n",
        "    rectangle.toString()\n",
        "    circle.toString()\n",
        "    triangle.toString()\n"
      ]
    },
    {
      "cell_type": "markdown",
      "metadata": {},
      "source": [
        "Search how to do private and protected atributs in a class. Search what is de difference from public, private and protected"
      ]
    },
    {
      "cell_type": "code",
      "execution_count": null,
      "metadata": {},
      "outputs": [],
      "source": [
        "#public can be accessed directly by any class\n",
        "#private can only be used within class __variableName\n",
        "#protected can be used by class and subclass _variableName"
      ]
    },
    {
      "cell_type": "markdown",
      "metadata": {
        "id": "v56KK-r2Vvi3"
      },
      "source": [
        "References:\n",
        "\n",
        "[OPP principles](https://www.educative.io/blog/object-oriented-programming)\n",
        "\n",
        "[Inheritance](https://www.programiz.com/python-programming/inheritance)"
      ]
    }
  ],
  "metadata": {
    "colab": {
      "provenance": []
    },
    "kernelspec": {
      "display_name": "Python 3",
      "language": "python",
      "name": "python3"
    },
    "language_info": {
      "codemirror_mode": {
        "name": "ipython",
        "version": 3
      },
      "file_extension": ".py",
      "mimetype": "text/x-python",
      "name": "python",
      "nbconvert_exporter": "python",
      "pygments_lexer": "ipython3",
      "version": "3.13.0"
    }
  },
  "nbformat": 4,
  "nbformat_minor": 0
}
