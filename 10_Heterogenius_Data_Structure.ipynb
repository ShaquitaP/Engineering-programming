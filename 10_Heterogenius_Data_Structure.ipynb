{
  "cells": [
    {
      "cell_type": "markdown",
      "metadata": {
        "id": "Hz5WRc8AbhJ9"
      },
      "source": [
        "**Programing Logic**\n",
        "> **Professor: Sthefanie Passo**\n",
        "\n",
        "> **E-mail: sthefaniepasso@gmail.com**"
      ]
    },
    {
      "cell_type": "markdown",
      "metadata": {
        "id": "ApA7JIhtcJVT"
      },
      "source": [
        "##**Heterogenius Data Structures**"
      ]
    },
    {
      "cell_type": "markdown",
      "metadata": {
        "id": "eqd-P-91cRxa"
      },
      "source": [
        "In Python, heterogeneous data structures refer to collections that can hold elements of different data types. The most commonly used heterogeneous data structures are lists and dictionaries.\n",
        "\n",
        "## **Lists:**\n",
        "A list in Python is an ordered collection that can contain elements of different data types. Here's an example of a heterogeneous list:"
      ]
    },
    {
      "cell_type": "code",
      "execution_count": 5,
      "metadata": {
        "colab": {
          "base_uri": "https://localhost:8080/"
        },
        "id": "JSpAQK3BPYrW",
        "outputId": "f4878b41-5b87-4665-ed4c-ee146f12c401"
      },
      "outputs": [
        {
          "name": "stdout",
          "output_type": "stream",
          "text": [
            "1\n",
            "hello\n",
            "h\n",
            "l\n",
            "3\n"
          ]
        }
      ],
      "source": [
        "hetero_list = [1, \"hello\", 3.14, True, [1, 2, 3]]\n",
        "\n",
        "# Accessing elements\n",
        "print(hetero_list[0])\n",
        "print(hetero_list[1])\n",
        "print(hetero_list[1][0])\n",
        "print(hetero_list[1][2])\n",
        "print(hetero_list[4][2])\n"
      ]
    },
    {
      "cell_type": "markdown",
      "metadata": {
        "id": "eoNKkVYyPfQL"
      },
      "source": [
        "In the above example, the hetero_list contains an integer, a string, a float, a boolean, and another list.\n",
        "\n",
        "## **Dictionaries:**\n",
        "A dictionary in Python is an unordered collection of key-value pairs. Each key is unique, and it can hold values of different data types. Here's an example of a heterogeneous dictionary:"
      ]
    },
    {
      "cell_type": "code",
      "execution_count": null,
      "metadata": {
        "colab": {
          "base_uri": "https://localhost:8080/"
        },
        "id": "t3vmzecCPkcA",
        "outputId": "09028824-b962-4be1-8845-708fb3f6ac02"
      },
      "outputs": [],
      "source": []
    },
    {
      "cell_type": "code",
      "execution_count": 4,
      "metadata": {
        "colab": {
          "base_uri": "https://localhost:8080/"
        },
        "id": "bENE79hUc1AS",
        "outputId": "b907b399-2907-4500-fda6-a91fa60764b5"
      },
      "outputs": [],
      "source": [
        "# In a dictionary we can deleate keys\n"
      ]
    },
    {
      "cell_type": "markdown",
      "metadata": {
        "id": "a-5NuJJsPk2F"
      },
      "source": [
        "You can also declare a key and let it empty"
      ]
    },
    {
      "cell_type": "code",
      "execution_count": null,
      "metadata": {
        "colab": {
          "base_uri": "https://localhost:8080/"
        },
        "id": "p1v0y1MCPkBX",
        "outputId": "3f0be0aa-a4a7-4ef7-dbbb-6076146f6c42"
      },
      "outputs": [],
      "source": []
    },
    {
      "cell_type": "markdown",
      "metadata": {
        "id": "Hxlw_D5rK0dZ"
      },
      "source": [
        "In the hetero_dict, keys are strings, and values can be strings, integers, booleans, or even lists.\n",
        "Another example of hou to create dictionaries is:"
      ]
    },
    {
      "cell_type": "code",
      "execution_count": 5,
      "metadata": {
        "colab": {
          "base_uri": "https://localhost:8080/"
        },
        "id": "vg4-Tm7ZK7BG",
        "outputId": "e7d113b2-b3d9-4b05-aa9e-155f3f69a773"
      },
      "outputs": [],
      "source": [
        "# name, age, salary, level (TA, GRA, Teacher Assistent, Professor), class (true or false)"
      ]
    },
    {
      "cell_type": "markdown",
      "metadata": {
        "id": "5q3SoIZqnpbr"
      },
      "source": [
        "Create an algorithm that print all numbers from 0 to 100 in a cursive way.\n",
        "\n",
        "\n",
        "\n",
        "```\n",
        "input = output\n",
        "25 = twenty five\n",
        "20 = twenty\n",
        "5 = five\n",
        "\n",
        "```\n",
        "\n"
      ]
    },
    {
      "cell_type": "code",
      "execution_count": null,
      "metadata": {
        "colab": {
          "base_uri": "https://localhost:8080/"
        },
        "id": "35wsDjYuLdxD",
        "outputId": "73b9cb1f-594f-4ea4-cc73-8fb9125b9f41"
      },
      "outputs": [
        {
          "name": "stdout",
          "output_type": "stream",
          "text": [
            "10 2\n",
            "ten two\n"
          ]
        }
      ],
      "source": []
    },
    {
      "cell_type": "markdown",
      "metadata": {
        "id": "nzyslEoGPm2A"
      },
      "source": [
        "## **Tuple:**\n",
        "A tuple is another data structure in Python that can be **heterogeneous**. Tuples are ordered and immutable, meaning **their elements cannot be changed after creation**:"
      ]
    },
    {
      "cell_type": "code",
      "execution_count": null,
      "metadata": {
        "colab": {
          "base_uri": "https://localhost:8080/"
        },
        "id": "0oJ43H7jQBKK",
        "outputId": "e0afd46a-159d-419d-9623-77fd5e0e67a7"
      },
      "outputs": [
        {
          "name": "stdout",
          "output_type": "stream",
          "text": [
            "1\n",
            "apple\n"
          ]
        }
      ],
      "source": [
        "\n"
      ]
    },
    {
      "cell_type": "code",
      "execution_count": 1,
      "metadata": {
        "colab": {
          "base_uri": "https://localhost:8080/",
          "height": 191
        },
        "id": "PJnWn21VdAIt",
        "outputId": "7b6f5433-9f1e-4030-c846-90a067345ebf"
      },
      "outputs": [],
      "source": [
        "#Tuple does not suport deletion neigther edition\n"
      ]
    },
    {
      "cell_type": "code",
      "execution_count": 2,
      "metadata": {
        "colab": {
          "base_uri": "https://localhost:8080/",
          "height": 191
        },
        "id": "wu1SUx4CdQxH",
        "outputId": "502a5a64-1015-4c67-e3b3-56a1f9376c37"
      },
      "outputs": [],
      "source": [
        "#Tuple does not suport deletion neigther edition\n"
      ]
    },
    {
      "cell_type": "markdown",
      "metadata": {
        "id": "f6twF9dSMnnG"
      },
      "source": [
        "Other examples:"
      ]
    },
    {
      "cell_type": "code",
      "execution_count": null,
      "metadata": {
        "colab": {
          "base_uri": "https://localhost:8080/"
        },
        "id": "kJDv6WPqMpBh",
        "outputId": "66b2941d-986e-42a8-e233-9e9d956bac29"
      },
      "outputs": [
        {
          "data": {
            "text/plain": [
              "{'a': [1, 2, 3, 4], 'b': [1, 2, 3, 4]}"
            ]
          },
          "execution_count": 15,
          "metadata": {},
          "output_type": "execute_result"
        }
      ],
      "source": [
        "# Example of dictionary\n",
        "a = [1,2,3,4]\n",
        "b = [1,2,3,4]\n",
        "c = {'a':a,'b':b}\n",
        "c"
      ]
    },
    {
      "cell_type": "code",
      "execution_count": null,
      "metadata": {
        "colab": {
          "base_uri": "https://localhost:8080/"
        },
        "id": "E5YK_uoHMrJh",
        "outputId": "f7a8c61e-eaac-4284-bb23-c442abc4eaa9"
      },
      "outputs": [
        {
          "data": {
            "text/plain": [
              "('Sthefanie', 981195114, 0, 0.45)"
            ]
          },
          "execution_count": 19,
          "metadata": {},
          "output_type": "execute_result"
        }
      ],
      "source": [
        "tuple1 = (\"Sthefanie\", 981195114, 0, 0.45)\n",
        "tuple1"
      ]
    },
    {
      "cell_type": "markdown",
      "metadata": {
        "id": "81gCD3sBPwPm"
      },
      "source": [
        "## **Sets:**\n",
        "Sets in Python are unordered collections of unique elements. While they are typically homogeneous, you can have a set of different data types:"
      ]
    },
    {
      "cell_type": "code",
      "execution_count": 6,
      "metadata": {
        "colab": {
          "base_uri": "https://localhost:8080/"
        },
        "id": "SLalv31iQPqI",
        "outputId": "f1dede6d-3e8f-49ed-9243-4e202b473001"
      },
      "outputs": [],
      "source": [
        "\n",
        "# Note: Sets are unordered, so there's no index-based access\n",
        "# You can check membership using 'in'\n"
      ]
    },
    {
      "cell_type": "markdown",
      "metadata": {
        "id": "JvLXS3y-QSJW"
      },
      "source": [
        "These examples illustrate how Python allows you to create and work with heterogeneous data structures like lists, dictionaries, tuples, and sets, providing flexibility in handling different types of data within a single collection."
      ]
    },
    {
      "cell_type": "markdown",
      "metadata": {
        "id": "fc8EpK4HNN7X"
      },
      "source": [
        "Other examples of set:"
      ]
    },
    {
      "cell_type": "code",
      "execution_count": null,
      "metadata": {
        "colab": {
          "base_uri": "https://localhost:8080/"
        },
        "id": "XXw-uIncNHHw",
        "outputId": "bc16993d-0a0a-4010-8ff4-66f9488b54fe"
      },
      "outputs": [
        {
          "data": {
            "text/plain": [
              "{1, 2, 3, 4}"
            ]
          },
          "execution_count": 24,
          "metadata": {},
          "output_type": "execute_result"
        }
      ],
      "source": []
    },
    {
      "cell_type": "code",
      "execution_count": null,
      "metadata": {
        "colab": {
          "base_uri": "https://localhost:8080/"
        },
        "id": "cGNRVMhBEJmb",
        "outputId": "406ab76f-11f7-489d-b04f-c856b4eec311"
      },
      "outputs": [
        {
          "data": {
            "text/plain": [
              "set()"
            ]
          },
          "execution_count": 21,
          "metadata": {},
          "output_type": "execute_result"
        }
      ],
      "source": []
    },
    {
      "cell_type": "code",
      "execution_count": null,
      "metadata": {
        "colab": {
          "base_uri": "https://localhost:8080/"
        },
        "id": "j3JhUtLKEOx9",
        "outputId": "85918f0a-d97f-4817-cc1f-d8b7c4cc8700"
      },
      "outputs": [],
      "source": []
    },
    {
      "cell_type": "code",
      "execution_count": null,
      "metadata": {
        "colab": {
          "base_uri": "https://localhost:8080/"
        },
        "id": "yAmMbfHJGdLQ",
        "outputId": "bdb3d25d-f7ae-4d28-e198-55ce43ece64d"
      },
      "outputs": [],
      "source": []
    },
    {
      "cell_type": "markdown",
      "metadata": {
        "id": "DDLZocWlED8l"
      },
      "source": [
        "Referências:\n",
        "\n",
        "[Principais Estruturas de Dados no Python](https://www.treinaweb.com.br/blog/principais-estruturas-de-dados-no-python/)\n",
        "\n",
        "[Estruturas de dados Heterogêneas(struct)](https://www.codingame.com/playgrounds/24988/programacao-c/estrutura-de-dados-heterogenea-struct)"
      ]
    },
    {
      "cell_type": "markdown",
      "metadata": {
        "id": "0lFYfHlxeStU"
      },
      "source": [
        "## Exercices\n",
        "1. Digit an algorithm that receive a number range 0 until 100 and write the string of the number.\n",
        "\n",
        "\n",
        "\n",
        "```\n",
        "73 = seventy three\n",
        "10 = ten\n",
        "99 = ninty nine\n",
        "\n",
        "```\n",
        "\n"
      ]
    },
    {
      "cell_type": "code",
      "execution_count": null,
      "metadata": {
        "id": "xKFuQQS-eS9l"
      },
      "outputs": [],
      "source": []
    },
    {
      "cell_type": "markdown",
      "metadata": {
        "id": "j07VT541eTLI"
      },
      "source": [
        "2. Write a code with a dictionary with range 0 to 15 and the value is the square of the key\n",
        "\n",
        "\n",
        "\n",
        "```\n",
        "dictionary = {1:2, 2:4, 3:9 ...15:225}\n",
        "\n",
        "```\n",
        "\n",
        "To add elements in a dictionary we can do:\n",
        "\n",
        "\n",
        "```\n",
        "thisdict = {\n",
        "  \"brand\": \"Ford\",\n",
        "  \"model\": \"Mustang\",\n",
        "  \"year\": 1964\n",
        "}\n",
        "thisdict[\"color\"] = \"red\"\n",
        "print(thisdict)\n",
        "```\n",
        "\n"
      ]
    },
    {
      "cell_type": "code",
      "execution_count": null,
      "metadata": {
        "id": "-kQ3yBrmeTca"
      },
      "outputs": [],
      "source": []
    },
    {
      "cell_type": "markdown",
      "metadata": {
        "id": "gDVf4_yyw4tS"
      },
      "source": [
        "3. Write a code where you concatenate 3 dictionaries:\n",
        "\n",
        "\n",
        "```\n",
        "Input:\n",
        "dic1={1:10, 2:20}\n",
        "dic2={3:30, 4:40}\n",
        "dic3={5:50,6:60}\n",
        "\n",
        "Output :\n",
        "{1: 10, 2: 20, 3: 30, 4: 40, 5: 50, 6: 60}\n",
        "```\n",
        "\n"
      ]
    },
    {
      "cell_type": "code",
      "execution_count": null,
      "metadata": {
        "id": "kypA-U1Jw5T0"
      },
      "outputs": [],
      "source": []
    },
    {
      "cell_type": "markdown",
      "metadata": {
        "id": "zCiyn-UZxcSL"
      },
      "source": [
        "4. Write a Python program to return a new set with unique items from both sets by removing duplicates.\n",
        "\n",
        "\n",
        "\n",
        "```\n",
        "Input:\n",
        "set1 = {10, 20, 30, 40, 50}\n",
        "set2 = {30, 40, 50, 60, 70}\n",
        "\n",
        "Output:\n",
        "{70, 40, 10, 50, 20, 60, 30}\n",
        "```\n",
        "\n",
        "Hint: Use the union() method of a set.\n",
        "**d1.union(d2)**\n",
        "\n"
      ]
    },
    {
      "cell_type": "code",
      "execution_count": null,
      "metadata": {
        "id": "uFvGLI42x6Xl"
      },
      "outputs": [],
      "source": []
    },
    {
      "cell_type": "markdown",
      "metadata": {
        "id": "KPHqe-mnx64r"
      },
      "source": [
        "5. Return a new set of identical items from two sets\n",
        "\n",
        "\n",
        "```\n",
        "Input:\n",
        "set1 = {10, 20, 30, 40, 50}\n",
        "set2 = {30, 40, 50, 60, 70}\n",
        "\n",
        "Output:\n",
        "{40, 50, 30}\n",
        "```\n",
        "\n",
        "Hint: Use the intersection() method of a set.\n",
        "\n",
        "\n",
        "\n"
      ]
    },
    {
      "cell_type": "code",
      "execution_count": null,
      "metadata": {
        "id": "H10LrtqWyvrO"
      },
      "outputs": [],
      "source": []
    },
    {
      "cell_type": "markdown",
      "metadata": {
        "id": "uJMjUhfyyvAJ"
      },
      "source": [
        "6. Remove items from set1 that are not common to both set1 and set2\n",
        "\n",
        "\n",
        "\n",
        "```\n",
        "Input:\n",
        "set1 = {10, 20, 30, 40, 50}\n",
        "set2 = {30, 40, 50, 60, 70}\n",
        "\n",
        "Output:\n",
        "{40,50,30}\n",
        "```\n",
        "\n",
        "Hint: Use the intersection_update() method of a set.\n",
        "\n",
        "\n",
        "\n"
      ]
    },
    {
      "cell_type": "code",
      "execution_count": null,
      "metadata": {
        "id": "jWF_O0AyzK1m"
      },
      "outputs": [],
      "source": []
    },
    {
      "cell_type": "markdown",
      "metadata": {
        "id": "OoSLCONEzL3N"
      },
      "source": [
        "7. Write a Python program to check whether an element exists within a tuple."
      ]
    },
    {
      "cell_type": "code",
      "execution_count": null,
      "metadata": {
        "id": "hSs6Sj-0zZtr"
      },
      "outputs": [],
      "source": []
    },
    {
      "cell_type": "markdown",
      "metadata": {
        "id": "2b5UO1w6zaDH"
      },
      "source": [
        "8. Write a Python program to convert a list to a tuple."
      ]
    },
    {
      "cell_type": "code",
      "execution_count": null,
      "metadata": {
        "id": "ZUhCwM9CzdPE"
      },
      "outputs": [],
      "source": []
    },
    {
      "cell_type": "markdown",
      "metadata": {
        "id": "AMZ6yE8PzdZS"
      },
      "source": [
        "9 .Write a Python program to print a tuple with string formatting.\n",
        "\n",
        "\n",
        "```\n",
        "Input:\n",
        "(100, 200, 300)\n",
        "\n",
        "Output:\n",
        "This is a tuple (100, 200, 300)\n",
        "```\n",
        "\n"
      ]
    },
    {
      "cell_type": "code",
      "execution_count": null,
      "metadata": {
        "id": "4lYQeZA3z1R1"
      },
      "outputs": [],
      "source": []
    },
    {
      "cell_type": "markdown",
      "metadata": {
        "id": "uNTpFL2lz1g1"
      },
      "source": [
        "10. Write a Python program to remove an empty tuple(s) from a list of tuples.\n",
        "\n",
        "\n",
        "```\n",
        "Input:\n",
        "[(), (), ('',), ('a', 'b'), ('a', 'b', 'c'), ('d')]\n",
        "\n",
        "Output:\n",
        "[('',), ('a', 'b'), ('a', 'b', 'c'), 'd']\n",
        "```\n",
        "\n"
      ]
    },
    {
      "cell_type": "code",
      "execution_count": null,
      "metadata": {
        "id": "ciaxza2Wz8wQ"
      },
      "outputs": [],
      "source": []
    }
  ],
  "metadata": {
    "colab": {
      "provenance": []
    },
    "kernelspec": {
      "display_name": "Python 3.9.6 64-bit",
      "language": "python",
      "name": "python3"
    },
    "language_info": {
      "codemirror_mode": {
        "name": "ipython",
        "version": 3
      },
      "file_extension": ".py",
      "mimetype": "text/x-python",
      "name": "python",
      "nbconvert_exporter": "python",
      "pygments_lexer": "ipython3",
      "version": "3.9.6"
    },
    "vscode": {
      "interpreter": {
        "hash": "31f2aee4e71d21fbe5cf8b01ff0e069b9275f58929596ceb00d14d90e3e16cd6"
      }
    }
  },
  "nbformat": 4,
  "nbformat_minor": 0
}
