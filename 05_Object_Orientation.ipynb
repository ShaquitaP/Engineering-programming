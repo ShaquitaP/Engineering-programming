{
 "cells": [
  {
   "cell_type": "markdown",
   "metadata": {
    "id": "Hz5WRc8AbhJ9"
   },
   "source": [
    "**Programing Logic**\n",
    "> **Professor: Sthefanie Passo**\n",
    "\n",
    "> **E-mail: sthefaniepasso@gmail.com**"
   ]
  },
  {
   "cell_type": "markdown",
   "metadata": {
    "id": "d2tjz-EmJutq"
   },
   "source": [
    "# **Object Orientation Programing**\n",
    "\n",
    "Object-oriented programming (OOP) is a programming paradigm that uses objects—instances of classes—to organize and structure code. Objects can encapsulate data and behavior, making it easier to model and manipulate complex systems. In Python, everything is an object, and the language supports both procedural and object-oriented programming.\n",
    "\n",
    "* Imagine that you need to program an robot\n",
    "* The robt neet to walk, talk, turn on and turn off (methods)\n",
    "* The robot have material, arms, legs, head, mouth and eyes (atributs)\n",
    "\n",
    "![alt text](https://s2.best-wallpaper.net/wallpaper/2560x1440/1802/Robot-ready-to-run-black-background_2560x1440.jpg)\n",
    "\n",
    "To create the object you need to declare the **Class** that have all details of the module to do safe information and do tasks.\n",
    "\n",
    "\n",
    "```\n",
    "                              Object Orientation Programing\n",
    "                                            |\n",
    "                                         Object\n",
    "                              ______________|______________\n",
    "                            |                              |\n",
    "                        Methods                         Atributs\n",
    "                  _________|________              _________|________  \n",
    "                |          |        |            |                  |\n",
    "              Action    Operation  Function    Elements        Properdies\n",
    "```\n"
   ]
  },
  {
   "cell_type": "markdown",
   "metadata": {
    "id": "qqL3rw77O6v0"
   },
   "source": [
    "## Concepts of OOP in Python:\n",
    "\n",
    "### Classes and Objects:\n",
    "\n",
    "* **Class:** A blueprint for creating objects. It defines a set of attributes and  methods that the objects created from the class will have.\n",
    "\n",
    "* **Object:** An instance of a class. It is a concrete realization of the class, with specific values for its attributes.\n",
    "\n",
    "* **Attributes:**\n",
    "Variables that store data are known as attributes or properties.\n",
    "\n",
    "* **Methods:**\n",
    "Functions that are associated with objects are called methods. They define the behavior of the objects. (Actions)\n",
    "\n",
    "* **Encapsulation:**\n",
    "The bundling of data and methods that operate on the data within a single unit, known as a class.\n",
    "\n",
    "* **Inheritance:**\n",
    "The ability of a class to inherit properties and methods from another class. It promotes code reusability.\n",
    "\n",
    "* **Polymorphism:**\n",
    "The ability of a single function or method to work with objects of multiple types.\n",
    "Coding Example:"
   ]
  },
  {
   "cell_type": "markdown",
   "metadata": {
    "id": "rU2fL6Z-QRT8"
   },
   "source": [
    "Let's build a robot now!"
   ]
  },
  {
   "cell_type": "code",
   "execution_count": 2,
   "metadata": {
    "id": "tsDQ8WFGQsIk"
   },
   "outputs": [],
   "source": [
    "class Robot:\n",
    "    #constructor\n",
    "    def __init__(self, new_voice_tone, new_camera, new_speed):\n",
    "        #Atributs\n",
    "        self.voice_tone = new_voice_tone\n",
    "        self.camera = new_camera\n",
    "        self.speed = new_speed\n",
    "\n",
    "    #Gets and sets\n",
    "    def get_voice_tone(self):\n",
    "        return self.voice_tone\n",
    "    def set_voice_tone(self,new_voice_tone):\n",
    "        self.voice_tone = new_voice_tone\n",
    "    def get_camera(self):\n",
    "        return self.camera\n",
    "    def set_camera(self, new_camera):\n",
    "        self.speed = new_camera\n",
    "    def get_speed(self):\n",
    "        return self.speed\n",
    "    def set_speed(self, new_speed):\n",
    "        self.speed = new_speed\n",
    "    "
   ]
  },
  {
   "cell_type": "code",
   "execution_count": 3,
   "metadata": {
    "colab": {
     "base_uri": "https://localhost:8080/"
    },
    "id": "j96qr1tPkknz",
    "outputId": "3991ea44-dd44-40d2-f615-12652bda15a2"
   },
   "outputs": [
    {
     "name": "stdout",
     "output_type": "stream",
     "text": [
      "voice_tone:  Male voice\n",
      "voice_tone:  New universe\n",
      "speed:  10.2\n"
     ]
    }
   ],
   "source": [
    "if __name__ == \"__main__\":\n",
    "  Luck = Robot(\"Male voice\", \"New universe\", 10.2)\n",
    "  print(\"voice_tone: \", Luck.get_voice_tone())\n",
    "  print(\"voice_tone: \", Luck.get_camera())\n",
    "  print(\"speed: \", Luck.get_speed())"
   ]
  },
  {
   "cell_type": "code",
   "execution_count": null,
   "metadata": {
    "colab": {
     "base_uri": "https://localhost:8080/"
    },
    "id": "PQnTFBKykkqG",
    "outputId": "2f23f0a4-2b89-4719-d8e2-4d99477976b1"
   },
   "outputs": [
    {
     "name": "stdout",
     "output_type": "stream",
     "text": [
      "15\n"
     ]
    }
   ],
   "source": [
    "a = 5\n",
    "b = 10\n",
    "c=a+b\n",
    "print(c)"
   ]
  },
  {
   "cell_type": "code",
   "execution_count": null,
   "metadata": {
    "id": "i7YyRmnqkksN"
   },
   "outputs": [],
   "source": []
  },
  {
   "cell_type": "code",
   "execution_count": null,
   "metadata": {
    "id": "V_B2zhp4Q-3G"
   },
   "outputs": [],
   "source": []
  },
  {
   "cell_type": "markdown",
   "metadata": {
    "id": "q_1LddX1QsVQ"
   },
   "source": [
    "\n",
    "\n",
    "Make a Cash Object that has as:\n",
    "\n",
    "Attributes: money (US$) and digital currency (Bitcoin)\n",
    "\n",
    "Methods: pay bill (request the price of the bill, calculate the updated money cash that the user have), calculate digital currency (calculate how many US$ you have in the digital currency atribut)\n"
   ]
  },
  {
   "cell_type": "code",
   "execution_count": null,
   "metadata": {
    "id": "DuEK7EO-Qsk5"
   },
   "outputs": [],
   "source": []
  },
  {
   "cell_type": "code",
   "execution_count": null,
   "metadata": {
    "id": "B__5IuAYQ_hZ"
   },
   "outputs": [],
   "source": []
  },
  {
   "cell_type": "markdown",
   "metadata": {
    "id": "pBEco_-yyRiU"
   },
   "source": []
  },
  {
   "cell_type": "code",
   "execution_count": null,
   "metadata": {
    "id": "uF_rQS26-qPD"
   },
   "outputs": [],
   "source": []
  },
  {
   "cell_type": "code",
   "execution_count": null,
   "metadata": {
    "id": "quQQtlZyu6RB"
   },
   "outputs": [],
   "source": []
  },
  {
   "cell_type": "code",
   "execution_count": null,
   "metadata": {
    "id": "dTZiT2Gi-qoO"
   },
   "outputs": [],
   "source": [
    "# Topics for the quiz include functions (including function definitions, function calls,\n",
    "# parameters, arguments, return values, scope of parameters and variables),\n",
    "# lists (slicing and indexing), and reading/writing files."
   ]
  },
  {
   "cell_type": "markdown",
   "metadata": {
    "id": "yfuxpFT0TScK"
   },
   "source": [
    "Classe Vetor"
   ]
  },
  {
   "cell_type": "code",
   "execution_count": null,
   "metadata": {
    "id": "7-_GoikEW89G"
   },
   "outputs": [],
   "source": [
    "import numpy as np"
   ]
  },
  {
   "cell_type": "code",
   "execution_count": null,
   "metadata": {
    "id": "NiUwbgpQ-qro"
   },
   "outputs": [],
   "source": [
    "class Vetor():\n",
    "  #Atributo\n",
    "  vet = []\n",
    "  tamanho = 0\n",
    "\n",
    "  #Construtor\n",
    "  def __init__(self, tamanho, vetNovo):\n",
    "    self.setTamanho(tamanho)\n",
    "    vet = np.zeros((self.getTamanho()), dtype=np.float64)\n",
    "    self.setVetor(vetNovo)\n",
    "\n",
    "  #Get e set\n",
    "  def getTamanho(self):\n",
    "    return self.tamanho\n",
    "  def setTamanho(self, tamanho):\n",
    "    self.tamanho = tamanho\n",
    "\n",
    "  def getVetor(self):\n",
    "    return self.vet\n",
    "  def setVetor(self, vet):\n",
    "    self.vet = vet\n",
    "\n",
    "  def getElemento(self, indice):\n",
    "    return self.vet[indice]\n",
    "  def setElemento(self, indice, valor):\n",
    "    self.vet[indice] = valor\n",
    "\n",
    "  #Functions pegar input x e multiplicar pelo input x\n",
    "  def imprime(self):\n",
    "    print(self.getVetor())\n",
    "\n",
    "  def verificaPar(self):\n",
    "    for i in range(0, self.getTamanho()):\n",
    "      if self.getElemento(i) %2 == 0:\n",
    "        print(self.getElemento(i), \"eh par\")\n",
    "\n"
   ]
  },
  {
   "cell_type": "code",
   "execution_count": null,
   "metadata": {
    "colab": {
     "base_uri": "https://localhost:8080/"
    },
    "id": "k0T94tBLTVC3",
    "outputId": "50ba14b9-6467-455e-899e-6b2cae153c23"
   },
   "outputs": [
    {
     "name": "stdout",
     "output_type": "stream",
     "text": [
      "[2, 5, 9, 8, 4]\n",
      "2 eh par\n",
      "8 eh par\n",
      "4 eh par\n"
     ]
    }
   ],
   "source": [
    "if __name__ == '__main__':\n",
    "  oi = Vetor(5,[2,5,9,8,4])\n",
    "  oi.imprime()\n",
    "  oi.verificaPar()\n"
   ]
  },
  {
   "cell_type": "code",
   "execution_count": null,
   "metadata": {
    "id": "jx5l_oKvTVGU"
   },
   "outputs": [],
   "source": []
  },
  {
   "cell_type": "code",
   "execution_count": null,
   "metadata": {
    "id": "8xfRK2VgTVKg"
   },
   "outputs": [],
   "source": []
  },
  {
   "cell_type": "code",
   "execution_count": null,
   "metadata": {
    "id": "ESOX9Y0ITVPf"
   },
   "outputs": [],
   "source": []
  },
  {
   "cell_type": "code",
   "execution_count": null,
   "metadata": {
    "id": "NWDevhLXcBo6"
   },
   "outputs": [],
   "source": [
    "#Ele deve andar, falar, ligar e desligar (métodos)\n",
    "#O robô deve ter baços, pernas, cabeça, boca e olhos (atributos)\n",
    "\n",
    "class Robo():\n",
    "  braco = 0\n",
    "  pernas = 0\n",
    "  cabeca = ''\n",
    "  boca = ''\n",
    "  olhos = ''\n",
    "  #construtor\n",
    "  def __init__(self):\n",
    "    pernas = 9\n",
    "\n",
    "  #atributos\n",
    "  def getBraco(self): #pegar\n",
    "    return self.braco\n",
    "  def setBraco(self, braco): #editar\n",
    "    self.braco = braco\n",
    "\n",
    "  #métodos\n",
    "  def baterPalma(self):\n",
    "    print(\"Palmas: \",self.getBraco())# quebra de encapsulamento = self.braco)\n"
   ]
  },
  {
   "cell_type": "code",
   "execution_count": null,
   "metadata": {
    "colab": {
     "base_uri": "https://localhost:8080/"
    },
    "id": "9TsX0acucB-B",
    "outputId": "e163b01b-f7bc-46e4-fc98-1cedf23c0912"
   },
   "outputs": [
    {
     "name": "stdout",
     "output_type": "stream",
     "text": [
      "Palmas:  10\n"
     ]
    }
   ],
   "source": [
    "if __name__ == '__main__':\n",
    "  Ada = Robo()\n",
    "  Ada.setBraco(10)\n",
    "  Ada.baterPalma()"
   ]
  },
  {
   "cell_type": "code",
   "execution_count": null,
   "metadata": {
    "colab": {
     "base_uri": "https://localhost:8080/"
    },
    "id": "NWECgHaqcCFd",
    "outputId": "025dd66e-d335-4119-bb5e-72138d78e5fa"
   },
   "outputs": [
    {
     "name": "stdout",
     "output_type": "stream",
     "text": [
      "63\n",
      "8.073688901214345\n"
     ]
    }
   ],
   "source": [
    "from random import randrange, uniform\n",
    "print(randrange(10, 99)) #faixa de inteiro\n",
    "print(uniform(0, 9)) #faixa de ponto flutuante"
   ]
  },
  {
   "cell_type": "code",
   "execution_count": null,
   "metadata": {
    "id": "AHrJbvA3cCLb"
   },
   "outputs": [],
   "source": []
  },
  {
   "cell_type": "code",
   "execution_count": null,
   "metadata": {
    "id": "wAnT3pb2cCSx"
   },
   "outputs": [],
   "source": []
  },
  {
   "cell_type": "code",
   "execution_count": null,
   "metadata": {
    "id": "H7LpPxd6cCcd"
   },
   "outputs": [],
   "source": []
  },
  {
   "cell_type": "code",
   "execution_count": null,
   "metadata": {
    "id": "BG--3WXOaczi"
   },
   "outputs": [],
   "source": [
    "class Robo():\n",
    "  #construtor\n",
    "  def __init__(self, anda1, fala1):\n",
    "    self.anda = anda1\n",
    "    self.fala = fala1\n",
    "\n",
    "  #utilizar talheres\n",
    "  def getAnda(self): #Manda valor\n",
    "    '''Se -1: esquerda\n",
    "           0: parado\n",
    "           1: direita\n",
    "    '''\n",
    "    return self.anda\n",
    "\n",
    "  def setAnda(self, anda): #Modificar o valor\n",
    "    self.anda += anda\n"
   ]
  },
  {
   "cell_type": "markdown",
   "metadata": {
    "id": "iQ6CHVOrP0Vo"
   },
   "source": [
    "Para que a classe \"passe a existir\" temos que instancia-la em um objeto no main"
   ]
  },
  {
   "cell_type": "code",
   "execution_count": null,
   "metadata": {
    "colab": {
     "base_uri": "https://localhost:8080/",
     "height": 50
    },
    "id": "-J72DHOmbawV",
    "outputId": "d3c4061a-95cc-4df4-fcd2-e0394058e061"
   },
   "outputs": [
    {
     "name": "stdout",
     "output_type": "stream",
     "text": [
      "2\n",
      "0\n"
     ]
    }
   ],
   "source": [
    "if __name__ == '__main__':\n",
    "  DartVader = Robo(2, \"Oi\")\n",
    "  print(DartVader.getAnda())\n",
    "  DartVader.setAnda(-2)\n",
    "  print(DartVader.getAnda())\n"
   ]
  },
  {
   "cell_type": "markdown",
   "metadata": {
    "id": "7WRpvor9U4Yx"
   },
   "source": []
  },
  {
   "cell_type": "code",
   "execution_count": null,
   "metadata": {
    "id": "p5maI6Q_7s0q"
   },
   "outputs": [],
   "source": [
    "class Caixa():\n",
    "  def __init__(self, dinheiro, moedaDigital):\n",
    "    self.dinheiro = dinheiro\n",
    "    self.moedaDigital = moedaDigital\n",
    "\n",
    "  #pega valor ENCAPSULA\n",
    "  def getDinheiro(self):\n",
    "    return self.dinheiro\n",
    "\n",
    "  def getmoedaDigital(self):\n",
    "    return self.moedaDigital\n",
    "\n",
    "  #modifica valor\n",
    "  def setDinheiro(self, dinheiro):\n",
    "    self.dinheiro += dinheiro\n",
    "\n",
    "  def setmodedaDigital(self, moedaDigital):\n",
    "    self.moedaDigital += moedaDigital\n",
    "\n",
    "  #MÉTODOS\n",
    "  def troco(self, compra, dinheiro):\n",
    "    troco = dinheiro-compra\n",
    "    while troco < 0 :\n",
    "      dinheiro = float(input(\"O valor em dinheiro é insuficiente, deposite mais dinheiro: \"))\n",
    "      troco = troco + dinheiro\n",
    "    print(\"O seu troco é R$ \", troco)\n",
    "\n",
    "  def pagar(self):\n",
    "    opcao = int(input(\"Digite a opção de pagamento 1 Dinheiro ou 2 Cartão: \"))\n",
    "    if(opcao == 1):\n",
    "      #Dinheiro\n",
    "      valor = float(input(\"Qual o valor total da compra? \"))\n",
    "      dinheiro = float(input(\"Qual o valor depositado em Dinheiro? \"))\n",
    "      self.troco(valor, dinheiro)\n",
    "      self.setDinheiro(valor)\n",
    "    else:\n",
    "      #Cartão\n",
    "      valor = float(input(\"Qual o valor total da compra? \"))\n",
    "      self.setmodedaDigital(valor)"
   ]
  },
  {
   "cell_type": "code",
   "execution_count": null,
   "metadata": {
    "colab": {
     "base_uri": "https://localhost:8080/",
     "height": 84
    },
    "id": "eb_wqBlxQyAt",
    "outputId": "fa218b39-c8a4-4893-a9de-b675986ba21b"
   },
   "outputs": [
    {
     "name": "stdout",
     "output_type": "stream",
     "text": [
      "Digite a opção de pagamento 1 Dinheiro ou 2 Cartão: 2\n",
      "Qual o valor total da compra? 40\n",
      "Dinheiro Total:  10.0\n",
      "Moeda Digital Total:  40.0\n"
     ]
    }
   ],
   "source": [
    "if __name__ == '__main__':\n",
    "  MaquinaCoffe = Caixa(10,0)\n",
    "  MaquinaCoffe.pagar()\n",
    "  d = float(MaquinaCoffe.getDinheiro())\n",
    "  m = float(MaquinaCoffe.getmoedaDigital())\n",
    "  print(\"Dinheiro Total: \", d)\n",
    "  print(\"Moeda Digital Total: \", m)\n"
   ]
  },
  {
   "cell_type": "code",
   "execution_count": null,
   "metadata": {
    "colab": {
     "base_uri": "https://localhost:8080/",
     "height": 34
    },
    "id": "Epfq1lWcQyMS",
    "outputId": "fb390657-8f66-4fd7-fcfb-8251b71f6091"
   },
   "outputs": [
    {
     "data": {
      "text/plain": [
       "40.0"
      ]
     },
     "execution_count": 36,
     "metadata": {
      "tags": []
     },
     "output_type": "execute_result"
    }
   ],
   "source": [
    "MaquinaCoffe.getmoedaDigital()"
   ]
  },
  {
   "cell_type": "code",
   "execution_count": null,
   "metadata": {
    "colab": {
     "base_uri": "https://localhost:8080/",
     "height": 34
    },
    "id": "W7qyt3dBQyXV",
    "outputId": "d17b0292-c501-42d8-a6a2-32638d1dc584"
   },
   "outputs": [
    {
     "data": {
      "text/plain": [
       "10"
      ]
     },
     "execution_count": 37,
     "metadata": {
      "tags": []
     },
     "output_type": "execute_result"
    }
   ],
   "source": [
    "MaquinaCoffe.getDinheiro()"
   ]
  },
  {
   "cell_type": "code",
   "execution_count": null,
   "metadata": {
    "colab": {
     "base_uri": "https://localhost:8080/"
    },
    "id": "Xza9uVQ1RTc7",
    "outputId": "bfefdbcb-4fe4-45b2-c293-5479231207dd"
   },
   "outputs": [
    {
     "name": "stdout",
     "output_type": "stream",
     "text": [
      "a\n",
      "m\n",
      "o\n",
      "r\n",
      " \n",
      "Palindrono:  True\n"
     ]
    }
   ],
   "source": [
    "# arara\n",
    "# 01234\n",
    "# size = 5\n",
    "# compara:  0,4     2,3\n",
    "nome = \"amor roma\"\n",
    "palindrono = False\n",
    "for i in range(0,(len(nome)//2 +1)):\n",
    "  if nome[i] == nome[len(nome)-1-i]:\n",
    "    palindrono = True\n",
    "  else:\n",
    "    palindrono = False\n",
    "    break\n",
    "  nome[i]\n",
    "  print(nome[i])\n",
    "print(\"Palindrono: \", palindrono)"
   ]
  },
  {
   "cell_type": "code",
   "execution_count": null,
   "metadata": {
    "colab": {
     "base_uri": "https://localhost:8080/",
     "height": 35
    },
    "id": "-j_SeMbVRTqg",
    "outputId": "fdc60429-31d8-43cf-bc79-e8422f71913b"
   },
   "outputs": [
    {
     "data": {
      "application/vnd.google.colaboratory.intrinsic+json": {
       "type": "string"
      },
      "text/plain": [
       "'a'"
      ]
     },
     "execution_count": 6,
     "metadata": {
      "tags": []
     },
     "output_type": "execute_result"
    }
   ],
   "source": [
    "nome[0]"
   ]
  },
  {
   "cell_type": "code",
   "execution_count": null,
   "metadata": {
    "id": "7iZ6dVfX7s-3"
   },
   "outputs": [],
   "source": []
  },
  {
   "cell_type": "code",
   "execution_count": null,
   "metadata": {
    "id": "ApqOJepb7tI2"
   },
   "outputs": [],
   "source": []
  },
  {
   "cell_type": "code",
   "execution_count": null,
   "metadata": {
    "id": "JYQhRPzX7tLd"
   },
   "outputs": [],
   "source": []
  },
  {
   "cell_type": "code",
   "execution_count": null,
   "metadata": {
    "id": "HoTeLesM7sy6"
   },
   "outputs": [],
   "source": []
  },
  {
   "cell_type": "code",
   "execution_count": null,
   "metadata": {
    "id": "zIctEN0o7sxs"
   },
   "outputs": [],
   "source": []
  },
  {
   "cell_type": "code",
   "execution_count": null,
   "metadata": {
    "id": "WkQppwTr7suG"
   },
   "outputs": [],
   "source": []
  },
  {
   "cell_type": "code",
   "execution_count": null,
   "metadata": {
    "id": "UMHajWTKbazk"
   },
   "outputs": [],
   "source": [
    "class Caixa():\n",
    "    def __init__(self, dinheiro, moedaDigital):\n",
    "        self.dinheiro = dinheiro\n",
    "        self.MoedaDigital = moedaDigital\n",
    "\n",
    "    def getDinheiro(self):\n",
    "      return self.dinheiro\n",
    "\n",
    "    def setDinheiro(self, dinheiro):\n",
    "      self.dinheiro += dinheiro\n",
    "\n",
    "    def getMoedaDigital(self):\n",
    "      return self.MoedaDigital\n",
    "\n",
    "    def setMoedaDigital(self, MoedaDigital):\n",
    "      self.MoedaDigital += MoedaDigital\n",
    "\n",
    "    def troco(self, compra, dinheiro):\n",
    "      troco = dinheiro-compra\n",
    "      while(troco < 0):\n",
    "          dinheiro = float(input(\"Você deve depositar mais dinheiro para concluir a compra: \"))\n",
    "          troco = troco + dinheiro\n",
    "      print(\"Seu troco é de R$ \", troco)\n",
    "      return troco\n",
    "\n",
    "    def pagar(self):\n",
    "      opcao = int(input(\"Qual o tipo de pagamento (1) Dinheiro oou (2) Cartão? \"))\n",
    "      if(opcao == 1):\n",
    "        valor = float(input(\"Digite o valor da compra: \"))\n",
    "        dinheiro = float(input(\"Digite o valor depositado em dinheiro: \"))\n",
    "        self.troco(valor, dinheiro)\n",
    "        self.setDinheiro(valor)\n",
    "      elif(opcao ==2):\n",
    "        valor = float(input(\"Digite o valor da compra: \"))\n",
    "        self.setMoedaDigital(valor)\n",
    "      print(\"Agradescemos sua preferência\")\n"
   ]
  },
  {
   "cell_type": "code",
   "execution_count": null,
   "metadata": {
    "colab": {
     "base_uri": "https://localhost:8080/",
     "height": 123
    },
    "id": "vrUe4lJNEDMA",
    "outputId": "faf690f5-17ba-437b-bc62-a1ecab5a84e4"
   },
   "outputs": [
    {
     "name": "stdout",
     "output_type": "stream",
     "text": [
      "Qual o tipo de pagamento (1) Dinheiro oou (2) Cartão? 1\n",
      "Digite o valor da compra: 10\n",
      "Digite o valor depositado em dinheiro: 3\n",
      "Você deve depositar mais dinheiro para concluir a compra10\n",
      "Seu troco é de R$  3.0\n",
      "Agradescemos sua preferência\n"
     ]
    }
   ],
   "source": [
    "if __name__ == '__main__':\n",
    "    MaquinaCoffe = Caixa(10,0)\n",
    "    MaquinaCoffe.pagar()\n",
    "    MaquinaCoffe.getMoedaDigital()"
   ]
  },
  {
   "cell_type": "markdown",
   "metadata": {
    "id": "DDLZocWlED8l"
   },
   "source": [
    "Referências:\n",
    "\n",
    "[Principais Estruturas de Dados no Python](https://www.treinaweb.com.br/blog/principais-estruturas-de-dados-no-python/)\n",
    "\n",
    "[Estruturas de dados Heterogêneas(struct)](https://www.codingame.com/playgrounds/24988/programacao-c/estrutura-de-dados-heterogenea-struct)\n",
    "\n",
    "[OOP](https://www.programiz.com/python-programming/inheritance)"
   ]
  }
 ],
 "metadata": {
  "colab": {
   "provenance": []
  },
  "kernelspec": {
   "display_name": "Python 3",
   "language": "python",
   "name": "python3"
  },
  "language_info": {
   "codemirror_mode": {
    "name": "ipython",
    "version": 3
   },
   "file_extension": ".py",
   "mimetype": "text/x-python",
   "name": "python",
   "nbconvert_exporter": "python",
   "pygments_lexer": "ipython3",
   "version": "3.13.0"
  }
 },
 "nbformat": 4,
 "nbformat_minor": 0
}
