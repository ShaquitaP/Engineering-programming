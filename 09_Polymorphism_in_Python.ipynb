{
  "cells": [
    {
      "cell_type": "markdown",
      "metadata": {
        "id": "-pC-gsf75iU3"
      },
      "source": [
        "\n",
        "**Polymorphism in Python**\n",
        "> **Professor: Sthefanie Passo**\n",
        "\n",
        "> **E-mail: sthefaniepasso@gmail.com**\n"
      ]
    },
    {
      "cell_type": "markdown",
      "metadata": {
        "id": "kT0a6Uku5w1u"
      },
      "source": [
        "# Polymorphism in Python\n",
        "**What is Polymorphism?**\n",
        "\n",
        "The literal meaning of polymorphism is the condition of occurrence in different forms.\n",
        "\n",
        "Polymorphism is a very important concept in programming. It refers to the use of a single type entity (method, operator or object) to represent different types in different scenarios.\n",
        "\n",
        "Let's take an example:\n",
        "\n",
        "**Example 1: Polymorphism in addition operator**\n",
        "\n",
        "We know that the `+` operator is used extensively in Python programs. But, it does not have a single usage.\n",
        "\n",
        "For integer data types, `+` operator is used to perform arithmetic addition operation."
      ]
    },
    {
      "cell_type": "code",
      "execution_count": 1,
      "metadata": {
        "id": "5tg3Gcx1CS04"
      },
      "outputs": [
        {
          "name": "stdout",
          "output_type": "stream",
          "text": [
            "3\n"
          ]
        }
      ],
      "source": [
        "num1 = 1\n",
        "num2 = 2\n",
        "print(num1+num2)"
      ]
    },
    {
      "cell_type": "markdown",
      "metadata": {
        "id": "WPWsRKxyCWTj"
      },
      "source": [
        "Hence, the above program outputs `3`.\n",
        "\n",
        "Similarly, for string data types, `+` operator is used to perform concatenation."
      ]
    },
    {
      "cell_type": "code",
      "execution_count": 2,
      "metadata": {
        "id": "ZqK0suSqCS-A"
      },
      "outputs": [
        {
          "name": "stdout",
          "output_type": "stream",
          "text": [
            "Python Programming\n"
          ]
        }
      ],
      "source": [
        "str1 = \"Python\"\n",
        "str2 = \"Programming\"\n",
        "print(str1+\" \"+str2)"
      ]
    },
    {
      "cell_type": "markdown",
      "metadata": {
        "id": "eGFBSxTcCmqO"
      },
      "source": [
        "As a result, the above program outputs Python Programming.\n",
        "\n",
        "Here, we can see that a single operator `+` has been used to carry out different operations for distinct data types. This is one of the most simple occurrences of polymorphism in Python."
      ]
    },
    {
      "cell_type": "markdown",
      "metadata": {
        "id": "uBE3dZsBCvtX"
      },
      "source": [
        "# Function Polymorphism in Python\n",
        "\n",
        "There are some functions in Python which are compatible to run with multiple data types.\n",
        "\n",
        "One such function is the len() function. It can run with many data types in Python. Let's look at some example use cases of the function.\n",
        "\n",
        "**Example 2: Polymorphic len() function**"
      ]
    },
    {
      "cell_type": "code",
      "execution_count": 3,
      "metadata": {
        "id": "S5x7A74rCl1G"
      },
      "outputs": [
        {
          "name": "stdout",
          "output_type": "stream",
          "text": [
            "9\n",
            "3\n",
            "2\n"
          ]
        }
      ],
      "source": [
        "print(len(\"Programiz\"))\n",
        "print(len([\"Python\", \"Java\", \"C\"]))\n",
        "print(len({\"Name\": \"John\", \"Address\": \"Nepal\"}))"
      ]
    },
    {
      "cell_type": "markdown",
      "metadata": {
        "id": "YMr1ug6wC7VW"
      },
      "source": [
        "Here, we can see that many data types such as string, list, tuple, set, and dictionary can work with the `len()` function. However, we can see that it returns specific information about specific data types.\n",
        "\n",
        "![link text](https://cdn.programiz.com/sites/tutorial2program/files/func-polymorphism.png)\n",
        "\n",
        "# Class Polymorphism in Python\n",
        "Polymorphism is a very important concept in Object-Oriented Programming.\n",
        "\n",
        "To learn more about OOP in Python, visit our previous classes 1 to 5.\n",
        "\n",
        "We can use the concept of polymorphism while creating class methods as Python allows different classes to have methods with the same name.\n",
        "\n",
        "We can then later generalize calling these methods by disregarding the object we are working with. Let's look at an example:\n",
        "\n",
        "**Example 3: Polymorphism in Class Methods**\n",
        "\n",
        "![](https://miro.medium.com/v2/resize:fit:1312/1*jq57g70WKcsw11-M02nd7w.png)"
      ]
    },
    {
      "cell_type": "code",
      "execution_count": 11,
      "metadata": {
        "id": "HrlTgY3u5eVA"
      },
      "outputs": [],
      "source": [
        "class Animal():\n",
        "    def __init__(self, name, food, sound):\n",
        "        self.name = name\n",
        "        self.fav_food = food\n",
        "        self.sound = sound\n",
        "    \n",
        "    # getters/setters\n",
        "    def set_name(self, name):\n",
        "        self.name = name\n",
        "    def get_name(self):\n",
        "        return self.name\n",
        "    def set_favfood(self, food):\n",
        "        self.fav_food = food\n",
        "    def get_favfood(self):\n",
        "        return self.fav_food\n",
        "    def set_sound(self, sound):\n",
        "        self.sound = sound\n",
        "    def get_sound(self):\n",
        "        return self.sound\n",
        "\n",
        "    #methods\n",
        "    def eat(self):\n",
        "        print(self.get_name(),\"is eating\",self.get_favfood())\n",
        "    def make_noise(self):\n",
        "        print(self.get_sound())\n",
        "    \n",
        "    def toString(self):\n",
        "        print(\"********************\")\n",
        "        print(\"Name: \", self.get_name())\n",
        "        print(\"Favorite Food: \", self.get_favfood())\n",
        "\n",
        "class Tiger(Animal):\n",
        "    def __init__(self, name, food, sound):\n",
        "        Animal.__init__(self, name, food, sound)\n",
        "\n",
        "    def make_noise(self):\n",
        "        print(\"the tiger is in the jungle and he sounds like:\",Animal.get_sound(self))\n",
        "    def eat(self):\n",
        "        print(self.get_name(),\"is eating\",self.get_favfood())\n",
        "\n",
        "class Wolf(Animal):\n",
        "    def __init__(self, name, food, sound):\n",
        "        Animal.__init__(self, name, food, sound)\n",
        "\n",
        "    def make_noise(self):\n",
        "        print(\"the wolf is in montana and he sounds like:\",Animal.get_sound(self))\n",
        "    def eat(self):\n",
        "        print(self.get_name(),\"is eating\",self.get_favfood())\n",
        "    "
      ]
    },
    {
      "cell_type": "code",
      "execution_count": 13,
      "metadata": {},
      "outputs": [
        {
          "name": "stdout",
          "output_type": "stream",
          "text": [
            "the tiger is in the jungle and he sounds like: rawr\n",
            "kevin is eating birds\n",
            "the wolf is in montana and he sounds like: howl\n",
            "romeo is eating rodents\n"
          ]
        }
      ],
      "source": [
        "if __name__==\"__main__\":\n",
        "\n",
        "    tiger = Tiger(\"kevin\", \"birds\", \"rawr\")\n",
        "    tiger.make_noise()\n",
        "    tiger.eat()\n",
        "\n",
        "    wolf = Wolf(\"romeo\", \"rodents\", \"howl\")\n",
        "    #print(\"one\")\n",
        "    wolf.make_noise()\n",
        "    #print(\"two\")\n",
        "    wolf.eat()"
      ]
    },
    {
      "cell_type": "markdown",
      "metadata": {
        "id": "mn2uB3ApTi7z"
      },
      "source": [
        "Here, we have created two classes Cat and Dog. They share a similar structure and have the same method names info() and make_sound().\n",
        "\n",
        "However, notice that we have not created a common superclass or linked the classes together in any way. Even then, we can pack these two different objects into a tuple and iterate through it using a common animal variable. It is possible due to polymorphism."
      ]
    },
    {
      "cell_type": "markdown",
      "metadata": {
        "id": "Q1AfOYDlroAs"
      },
      "source": [
        "# Polymorphism and Inheritance\n",
        "Like in other programming languages, the child classes in Python also inherit methods and attributes from the parent class. We can redefine certain methods and attributes specifically to fit the child class, which is known as Method Overriding.\n",
        "\n",
        "Polymorphism allows us to access these overridden methods and attributes that have the same name as the parent class.\n",
        "\n",
        "Let's look at an example:\n",
        "\n",
        "**Example 4: Method Overriding**"
      ]
    },
    {
      "cell_type": "code",
      "execution_count": 49,
      "metadata": {
        "id": "R2M5zHd-rvVK"
      },
      "outputs": [],
      "source": [
        "class Shape:\n",
        "    def __init__(self, name, side1):\n",
        "        self.name = name\n",
        "        self.side1 = side1\n",
        "\n",
        "    #getters/setters\n",
        "    def set_name(self, name):\n",
        "        self.name = name\n",
        "    def get_name(self):\n",
        "        return self.name\n",
        "    def set_side1(self, side1):\n",
        "        self.side1 = side1\n",
        "    def get_side1(self):\n",
        "        return self.side1\n",
        "    \n",
        "    #methods\n",
        "    def area(self):\n",
        "        return self.side1**2\n",
        "    def perimeter(self):\n",
        "        return self.side1 * 4\n",
        "    def fact(self):\n",
        "        print(\"I am a 2 dimentional shape with\", end=\"\")\n",
        "    def toString(self):\n",
        "        print(\"*****************************\")\n",
        "        print(\"Name:\",self.get_name())\n",
        "        print(\"Area: %.3f\"%self.area())\n",
        "        print(\"Perimeter: %.3f\"%self.perimeter())\n",
        "    def __str__(self):\n",
        "        print(\"welcome to algebra class!\")\n",
        "\n",
        "class Circle(Shape):\n",
        "    def __init__(self, name, radius):\n",
        "        super().__init__(name, radius)    \n",
        "        self.radius = radius\n",
        "\n",
        "    #getters/setters\n",
        "    def set_radius(self, radius):\n",
        "        self.radius = radius\n",
        "    def get_radius(self):\n",
        "        return self.radius\n",
        "    \n",
        "    #methods\n",
        "    def area(self):\n",
        "        PI = 3.14\n",
        "        self.area = PI * self.radius**2\n",
        "        return self.area\n",
        "    def perimeter(self):\n",
        "        PI = 3.14\n",
        "        self.perimeter = 2 * PI * self.radius \n",
        "        return self.perimeter\n",
        "    def fact(self):\n",
        "        Shape.fact(self)\n",
        "        print(\" 0 sides!\")\n",
        "\n",
        "\n",
        "class Rectangle(Shape):\n",
        "    def __init__(self, name, side1, side2):\n",
        "        super().__init__(name, side1)    \n",
        "        self.side1 = side1\n",
        "        self.side2 = side2\n",
        "\n",
        "    #getters/setters\n",
        "    def set_side1(self, side1):\n",
        "        self.side1 = side1\n",
        "    def get_side1(self):\n",
        "        return self.side1\n",
        "    def set_side2(self, side2):\n",
        "        self.side2 = side2\n",
        "    def get_side2(self):\n",
        "        return self.side2\n",
        "    \n",
        "    \n",
        "    #methods\n",
        "    def area(self):\n",
        "        self.area = self.side1 * self.side2\n",
        "        return self.area\n",
        "    def perimeter(self):\n",
        "        self.perimeter = 2 * (self.side1 + self.side2) \n",
        "        return self.perimeter\n",
        "    def fact(self):\n",
        "        Shape.fact(self)\n",
        "        print(\" 4 sides!\")\n",
        "\n",
        "\n",
        "class Triangle(Shape):\n",
        "    def __init__(self, name, side1, side2, side3, height):\n",
        "        super().__init__(name, side1)    \n",
        "        self.side1 = side1\n",
        "        self.side2 = side2\n",
        "        self.side3 = side3\n",
        "        self.height = height\n",
        "\n",
        "\n",
        "    #getters/setters\n",
        "    def set_side1(self, side1):\n",
        "        self.side1 = side1\n",
        "    def get_side1(self):\n",
        "        return self.side1\n",
        "    def set_side2(self, side2):\n",
        "        self.side2 = side2\n",
        "    def get_side2(self):\n",
        "        return self.side2\n",
        "    def set_side3(self, side3):\n",
        "        self.side3 = side3\n",
        "    def get_side3(self):\n",
        "        return self.side3\n",
        "    def set_height(self, height):\n",
        "        self.height = height\n",
        "    def get_height(self):\n",
        "        return self.height\n",
        "    \n",
        "    #methods\n",
        "    def area(self):\n",
        "        self.area = 0.5 * self.side2 * self.height\n",
        "        return self.area\n",
        "    def perimeter(self):\n",
        "        self.perimeter = self.side1 + self.side2 + self.side3\n",
        "        return self.perimeter\n",
        "    def fact(self):\n",
        "        Shape.fact(self)\n",
        "        print(\" 3 sides!\")\n",
        "\n"
      ]
    },
    {
      "cell_type": "code",
      "execution_count": 50,
      "metadata": {
        "colab": {
          "base_uri": "https://localhost:8080/"
        },
        "id": "JS2UXdN_ruTR",
        "outputId": "f472bcdb-bbe9-4469-ed78-6a1a5cb7362f"
      },
      "outputs": [
        {
          "name": "stdout",
          "output_type": "stream",
          "text": [
            "welcome to algebra class!\n",
            "I am a 2 dimentional shape with 0 sides!\n",
            "I am a 2 dimentional shape with 4 sides!\n",
            "I am a 2 dimentional shape with 3 sides!\n"
          ]
        }
      ],
      "source": [
        "if __name__==\"__main__\":\n",
        "\n",
        "    shape = Shape(\"no name\", 1)\n",
        "    circle = Circle(\"circle\", 23)\n",
        "    rectangle = Rectangle(\"reatangle\", 2, 2)\n",
        "    triangle = Triangle(\"triangle\", 2, 2, 2, 3)\n",
        "\n",
        "    #shape.fact()\n",
        "    circle.__str__()\n",
        "    circle.fact()\n",
        "    rectangle.fact()\n",
        "    triangle.fact()"
      ]
    },
    {
      "cell_type": "markdown",
      "metadata": {
        "id": "YrD4ZEyPDxpp"
      },
      "source": [
        "Here, we can see that the methods such as `__str__()`, which have not been overridden in the child classes, are used from the parent class.\n",
        "\n",
        "Due to polymorphism, the Python interpreter automatically recognizes that the `fact()` method for object `a`(`Square` class) is overridden. So, it uses the one defined in the child class.\n",
        "\n",
        "On the other hand, since the `fact()` method for object `b` isn't overridden, it is used from the Parent `Shape` class.\n",
        "\n",
        "\n",
        "![link text](https://cdn.programiz.com/sites/tutorial2program/files/python-polymorphism.png)\n"
      ]
    },
    {
      "cell_type": "markdown",
      "metadata": {
        "id": "lQ-fqQxWS1l4"
      },
      "source": [
        "Note: Method Overloading, a way to create multiple methods with the same name but different arguments.\n"
      ]
    },
    {
      "cell_type": "markdown",
      "metadata": {
        "id": "8vgZ8tTYDG6I"
      },
      "source": [
        "Implement the classes with Polymorphism and Iheritance.\n",
        "\n",
        "**Exercise 1: Workout Routine Management**\n",
        "\n",
        "Objective: Implement a base class for a workout routine and derived classes for specific types of workouts. Demonstrate polymorphism by managing different workout types using a common interface.\n",
        "\n",
        "**Instructions:**\n",
        "\n",
        "\t1.\tCreate a base class Workout with a method perform() that prints a generic message like “Performing a workout…”.\n",
        "\t2.\tCreate three derived classes: Cardio, StrengthTraining, and Yoga, each with its own perform() method:\n",
        "\t•\tCardio should print “Running on the treadmill…”.\n",
        "\t•\tStrengthTraining should print “Lifting weights…”.\n",
        "\t•\tYoga should print “Doing yoga stretches…”.\n",
        "\t3.\tCreate a list of different workout objects (e.g., some cardio sessions, strength training sessions, and yoga sessions).\n",
        "\t4.\tLoop through the list and call the perform() method on each workout, demonstrating polymorphism.\n",
        "\n",
        "**Expected Output:**\n",
        "The program should show how different types of workouts are performed using a common method interface.\n",
        "\n",
        "```\n",
        "Running on the treadmill...\n",
        "Lifting weights...\n",
        "Doing yoga stretches...\n",
        "Running on the treadmill...\n",
        "\n",
        "```\n",
        "\n"
      ]
    },
    {
      "cell_type": "code",
      "execution_count": 57,
      "metadata": {
        "id": "29mwagbcBhWL"
      },
      "outputs": [],
      "source": [
        "class Workout:\n",
        "    def __init__(self, list_of_exercises):\n",
        "        self.list_of_exercises = list_of_exercises\n",
        "    \n",
        "    #getters/setters\n",
        "    def get_list_element(self, index):\n",
        "        return self.list_of_exercises[index]\n",
        "    def set_list_element(self, index, element):\n",
        "        self.list_of_exercises[index] = element\n",
        "    def get_list(self):\n",
        "        return self.list_of_exercises\n",
        "    def set_list(self, list_of_exercises):\n",
        "        self.list_of_exercises = list_of_exercises\n",
        "    def list_size(self):\n",
        "        return len(self.list_of_exercises)\n",
        "    \n",
        "    #methods\n",
        "    def perform(self):\n",
        "        print(\"Performing a workout...\")\n",
        "    def toString(self):\n",
        "        self.perform()\n",
        "        for i in range(0, self.list_size()):\n",
        "            print(\"Exercise \",i,\":\", self.get_list_element(i))\n",
        "\n",
        "class Cardio(Workout):\n",
        "    def __init__(self, list_of_exercises):\n",
        "        Workout.__init__(self, list_of_exercises)\n",
        "    \n",
        "    def perform(self):\n",
        "        print(\"Running on the treadmill\")\n",
        "\n",
        "class StrengthTraining(Workout):\n",
        "    def __init__(self, list_of_exercises):\n",
        "        Workout.__init__(self, list_of_exercises)\n",
        "    \n",
        "    def perform(self):\n",
        "        print(\"Lifting weights\")\n",
        "\n",
        "class Yoga(Workout):\n",
        "    def __init__(self, list_of_exercises):\n",
        "        Workout.__init__(self, list_of_exercises)\n",
        "    \n",
        "    def perform(self):\n",
        "        print(\"Doing yoga stretches\")"
      ]
    },
    {
      "cell_type": "code",
      "execution_count": 58,
      "metadata": {
        "id": "owv94ehOJWp2"
      },
      "outputs": [
        {
          "name": "stdout",
          "output_type": "stream",
          "text": [
            "Performing a workout...\n",
            "Exercise  0 : smith machine\n",
            "Exercise  1 : deadlifts\n",
            "Exercise  2 : bulgarian splits\n",
            "Exercise  3 : leg extensions\n",
            "Exercise  4 : elevation\n",
            "Exercise  5 : triceps in rope machine\n",
            "Running on the treadmill\n",
            "Exercise  0 : stair master\n",
            "Exercise  1 : pickleball\n",
            "Lifting weights\n",
            "Exercise  0 : bicep curls\n",
            "Exercise  1 : leg press\n",
            "Doing yoga stretches\n",
            "Exercise  0 : child's pose\n",
            "Exercise  1 : downward dog\n"
          ]
        }
      ],
      "source": [
        "if __name__==\"__main__\":\n",
        "\n",
        "    list_exercise = [\"smith machine\", \"deadlifts\", \"bulgarian splits\", \"leg extensions\", \"elevation\", \"triceps in rope machine\"]\n",
        "    list_cardio = [\"stair master\", \"pickleball\"]\n",
        "    list_strength_training = [\"bicep curls\", \"leg press\"]\n",
        "    list_yoga = [\"child's pose\", \"downward dog\"]\n",
        "\n",
        "    workout = Workout(list_exercise)\n",
        "    cardio = Cardio(list_cardio)\n",
        "    strength = StrengthTraining(list_strength_training)\n",
        "    yoga = Yoga(list_yoga)\n",
        "    workout.toString()\n",
        "    cardio.toString()\n",
        "    strength.toString()\n",
        "    yoga.toString()\n",
        "    \n"
      ]
    },
    {
      "cell_type": "markdown",
      "metadata": {
        "id": "suc8aQrsTSVH"
      },
      "source": [
        "**Exercise 2: Meal Prep Plan**\n",
        "\n",
        "Objective: Implement a base class for meal prep and derived classes for specific meal types. Use polymorphism to manage different meal plans using a common interface.\n",
        "\n",
        "Instructions:\n",
        "\n",
        "\t1.\tCreate a base class MealPrep with methods prepare() and get_nutrition_info() that return a generic message like “Preparing meal…” and “Nutritional information: …”.\n",
        "\t2.\tCreate three derived classes: Breakfast, Lunch, and Dinner, each overriding the prepare() and get_nutrition_info() methods:\n",
        "\t•\tBreakfast should have attributes like calories, protein, and carbs, and methods that print appropriate messages.\n",
        "\t•\tLunch should have similar attributes but with different values.\n",
        "\t•\tDinner should include different nutritional information as well.\n",
        "\t3.\tCreate instances of each meal type.\n",
        "\t4.\tStore these instances in a list and loop through the list to prepare the meals and print their nutritional information.\n",
        "\n",
        "**Expected Output:**\n",
        "The program should demonstrate polymorphism by preparing different meal types and displaying their nutritional information.\n",
        "\n",
        "\n",
        "\n",
        "```\n",
        "# Example output\n",
        "Preparing breakfast...\n",
        "Nutritional information: 400 calories, 20g protein, 50g carbs\n",
        "\n",
        "Preparing lunch...\n",
        "Nutritional information: 600 calories, 35g protein, 70g carbs\n",
        "\n",
        "Preparing dinner...\n",
        "Nutritional information: 700 calories, 30g protein, 60g carbs\n",
        "```\n",
        "\n"
      ]
    },
    {
      "cell_type": "code",
      "execution_count": null,
      "metadata": {
        "id": "-de_kzE8TMnG"
      },
      "outputs": [],
      "source": [
        "# breakfast ={\"3eggs\": [150, 20, 30]}"
      ]
    },
    {
      "cell_type": "code",
      "execution_count": null,
      "metadata": {
        "id": "anolI3DZJTmX"
      },
      "outputs": [],
      "source": [
        "# Create the main here"
      ]
    },
    {
      "cell_type": "markdown",
      "metadata": {
        "id": "i40A6kE6G-cb"
      },
      "source": [
        "**Exercise 3: Fitness Competition**\n",
        "\n",
        "1.\tCreate a Parent Class AppleWatch:\n",
        "\n",
        "* This class will represent the Apple Watch device. It should have attributes for the user’s name and a method to display the device information.\n",
        "\t2.\tCreate a Child Class FitnessApp:\n",
        "* This class will inherit from AppleWatch. It should be responsible for managing the user’s activity data, such as tracking and updating the number of rings completed.\n",
        "\t3.\tCreate Another Child Class ActivityRings:\n",
        "* This class will also inherit from AppleWatch and will be responsible for calculating the user’s total rings completed. Each user will have three rings: Move, Exercise, and Stand.\n",
        "\t4.\tSimulate the Competition:\n",
        "* You will create instances of the ActivityRings class for different users, each tracking their activity.\n",
        "* The calculate_rings() method in ActivityRings should be overridden to return the sum of the Move, Exercise, and Stand rings.\n",
        "* Compare the total rings completed by each user to determine the winner.\n",
        "\t5.\tMain Function:\n",
        "* In the main function, create instances of the ActivityRings class for three different users.\n",
        "* Display each user's activity data and determine the winner based on the most rings completed.\n",
        "\n",
        "\n",
        "\n",
        "```\n",
        "Starting Apple Watch Activity Rings Competition!\n",
        "==================================================\n",
        "Apple Watch for Alice\n",
        "Alice's Activity Rings:\n",
        "Move Ring: 180\n",
        "Exercise Ring: 35\n",
        "Stand Ring: 11\n",
        "Total Rings Completed: 226\n",
        "------------------------------\n",
        "Apple Watch for Bob\n",
        "Bob's Activity Rings:\n",
        "Move Ring: 150\n",
        "Exercise Ring: 30\n",
        "Stand Ring: 12\n",
        "Total Rings Completed: 192\n",
        "------------------------------\n",
        "Apple Watch for Charlie\n",
        "Charlie's Activity Rings:\n",
        "Move Ring: 190\n",
        "Exercise Ring: 40\n",
        "Stand Ring: 10\n",
        "Total Rings Completed: 240\n",
        "------------------------------\n",
        "The winner is:\n",
        "Apple Watch for Charlie\n",
        "Charlie's Activity Rings:\n",
        "Move Ring: 190\n",
        "Exercise Ring: 40\n",
        "Stand Ring: 10\n",
        "Total Rings Completed: 240\n",
        "------------------------------\n",
        "```\n",
        "\n"
      ]
    },
    {
      "cell_type": "code",
      "execution_count": null,
      "metadata": {
        "id": "QsHeuh8STwie"
      },
      "outputs": [],
      "source": [
        "# Apple watch: name, display info()\n",
        "# Fitness app: move, exercise, stand, display info()\n",
        "# Activity ring: total_rings, display_info()"
      ]
    },
    {
      "cell_type": "code",
      "execution_count": null,
      "metadata": {
        "id": "oLuzrLcA-4gj"
      },
      "outputs": [],
      "source": [
        "# Main function to simulate competition\n",
        "def simulate_competition(users):\n",
        "    print(\"Starting Apple Watch Activity Rings Competition!\")\n",
        "    print(\"=\" * 50)\n",
        "\n",
        "    for user in users:\n",
        "        user.display_info()\n",
        "        user.display_activity()\n",
        "\n",
        "    # Determine the winner\n",
        "    winner = max(users, key=lambda user: user.calculate_rings())\n",
        "\n",
        "    print(\"The winner is:\")\n",
        "    winner.display_info()\n",
        "    winner.display_activity()\n",
        "\n",
        "\n",
        "# Expected Main Function Implementation\n",
        "if __name__ == \"__main__\":\n",
        "    user_a = ActivityRings(\"Alice\")\n",
        "    user_b = ActivityRings(\"Bob\")\n",
        "    user_c = ActivityRings(\"Charlie\")\n",
        "\n",
        "    users = [user_a, user_b, user_c]\n",
        "\n",
        "    simulate_competition(users)"
      ]
    }
  ],
  "metadata": {
    "colab": {
      "provenance": []
    },
    "kernelspec": {
      "display_name": "Python 3",
      "language": "python",
      "name": "python3"
    },
    "language_info": {
      "codemirror_mode": {
        "name": "ipython",
        "version": 3
      },
      "file_extension": ".py",
      "mimetype": "text/x-python",
      "name": "python",
      "nbconvert_exporter": "python",
      "pygments_lexer": "ipython3",
      "version": "3.13.0"
    }
  },
  "nbformat": 4,
  "nbformat_minor": 0
}
