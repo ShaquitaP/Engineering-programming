{
  "cells": [
    {
      "cell_type": "markdown",
      "metadata": {
        "id": "-pC-gsf75iU3"
      },
      "source": [
        "\n",
        "**Object Orientation Programming**\n",
        "> **Professor: Sthefanie Passo**\n",
        "\n",
        "> **E-mail: sthefaniepasso@gmail.com**\n"
      ]
    },
    {
      "cell_type": "markdown",
      "metadata": {
        "id": "kT0a6Uku5w1u"
      },
      "source": [
        "# Python Multiple Inheritance\n",
        "A class can be derived from more than one superclass in Python. This is called multiple inheritance.\n",
        "\n",
        "For example, a class `Bat` is derived from superclasses `Mammal` and `WingedAnimal`. It makes sense because bat is a mammal as well as a winged animal.\n",
        "\n",
        "![link text](https://www.programiz.com/sites/tutorial2program/files/python-multiple-inheritance.png)\n",
        "\n",
        "\n",
        "\n",
        "# Python Multiple Inheritance Syntax\n",
        "\n",
        "\n",
        "\n",
        "```\n",
        "class SuperClass1:\n",
        "    # features of SuperClass1\n",
        "\n",
        "class SuperClass2:\n",
        "    # features of SuperClass2\n",
        "\n",
        "class MultiDerived(SuperClass1, SuperClass2):\n",
        "    # features of SuperClass1 + SuperClass2 + MultiDerived class\n",
        "```\n",
        "\n",
        "Here, the `MultiDerived` class is derived from `SuperClass1` and `SuperClass2` classes.\n",
        "\n",
        "\n",
        "**Example: Python Multiple Inheritance:**"
      ]
    },
    {
      "cell_type": "code",
      "execution_count": 3,
      "metadata": {
        "id": "HrlTgY3u5eVA"
      },
      "outputs": [],
      "source": [
        "class Mammal:\n",
        "    def __init__(self, hair, drink):\n",
        "        self.hair = hair\n",
        "        self.drink = drink\n",
        "    \n",
        "    def set_hair(self, hair):\n",
        "        self.hair = hair\n",
        "    def get_hair(self):\n",
        "        return self.hair\n",
        "    def set_drink(self, drink):\n",
        "        self.drink = drink\n",
        "    def get_drink(self):\n",
        "        return self.drink\n",
        "\n",
        "    def toString(self):\n",
        "        print(\"***************************************\")\n",
        "        print(\"hair color:\",self.get_hair())\n",
        "        print(\"drinks:\",self.get_drink())\n",
        "    \n",
        "class WingedAnimal:\n",
        "    def __init__(self, wing_size, fly_distance):\n",
        "        self.fly_distance = fly_distance\n",
        "        self.wing_size = wing_size\n",
        "    \n",
        "    def set_wing_size(self, wing_size):\n",
        "        self.wing_size = wing_size\n",
        "    def get_wing_size(self):\n",
        "        return self.wing_size\n",
        "    def set_fly_distance(self, fly_distance):\n",
        "        self.fly_distance = fly_distance\n",
        "    def get_fly_distance(self):\n",
        "        return self.fly_distance\n",
        "\n",
        "    def toString(self):\n",
        "        print(\"*****************************************\")\n",
        "        print(\"wing size:\",self.get_wing_size())\n",
        "        print(\"flight distance:\",self.get_fly_distance())\n",
        "\n",
        "class Bat(Mammal, WingedAnimal):\n",
        "    def __init__(self, hair, drink, wing_size, fly_distance):\n",
        "        Mammal.__init__(self,hair, drink)\n",
        "        WingedAnimal.__init__(self, wing_size, fly_distance)\n",
        "    def toString(self):\n",
        "        Mammal.toString(self)\n",
        "        WingedAnimal.toString(self)\n",
        "    "
      ]
    },
    {
      "cell_type": "markdown",
      "metadata": {
        "id": "mn2uB3ApTi7z"
      },
      "source": [
        "In the above example, the Bat class is derived from two super classes: Mammal and WingedAnimal. Notice the statements,\n",
        "\n"
      ]
    },
    {
      "cell_type": "code",
      "execution_count": 5,
      "metadata": {
        "id": "OvjdPfSVS2l1"
      },
      "outputs": [
        {
          "name": "stdout",
          "output_type": "stream",
          "text": [
            "***************************************\n",
            "hair color: orange\n",
            "drinks: water\n",
            "*****************************************\n",
            "wing size: 3ft\n",
            "flight distance: 50 mi/hr\n",
            "***************************************\n",
            "hair color: black\n",
            "drinks: milk\n",
            "*****************************************\n",
            "wing size: 0.5in.\n",
            "flight distance: 10 mi/hr\n"
          ]
        }
      ],
      "source": [
        "if __name__==\"__main__\":\n",
        "    cat = Mammal(\"orange\", \"water\")\n",
        "    eagle = WingedAnimal(\"3ft\", \"50 mi/hr\")\n",
        "    bat = Bat(\"black\", \"milk\", \"0.5in.\", \"10 mi/hr\")\n",
        "\n",
        "    cat.toString()\n",
        "    eagle.toString()\n",
        "    bat.toString()"
      ]
    },
    {
      "cell_type": "markdown",
      "metadata": {
        "id": "Q1AfOYDlroAs"
      },
      "source": [
        "We can also create methods and overload them in the child class:"
      ]
    },
    {
      "cell_type": "code",
      "execution_count": 11,
      "metadata": {
        "id": "R2M5zHd-rvVK"
      },
      "outputs": [],
      "source": [
        "class Mammal:\n",
        "    def __init__(self, hair, drink):\n",
        "        self.hair = hair\n",
        "        self.drink = drink\n",
        "    \n",
        "    def set_hair(self, hair):\n",
        "        self.hair = hair\n",
        "    def get_hair(self):\n",
        "        return self.hair\n",
        "    def set_drink(self, drink):\n",
        "        self.drink = drink\n",
        "    def get_drink(self):\n",
        "        return self.drink\n",
        "    \n",
        "    def give_birth(self):\n",
        "        babies = int(input(\"How many children can this mammal have at one time\"))\n",
        "        print(babies)\n",
        "\n",
        "    def toString(self):\n",
        "        print(\"***************************************\")\n",
        "        print(\"hair color:\",self.get_hair())\n",
        "        print(\"drinks:\",self.get_drink())\n",
        "    \n",
        "class WingedAnimal:\n",
        "    def __init__(self, wing_size, fly_distance):\n",
        "        self.fly_distance = fly_distance\n",
        "        self.wing_size = wing_size\n",
        "    \n",
        "    def set_wing_size(self, wing_size):\n",
        "        self.wing_size = wing_size\n",
        "    def get_wing_size(self):\n",
        "        return self.wing_size\n",
        "    def set_fly_distance(self, fly_distance):\n",
        "        self.fly_distance = fly_distance\n",
        "    def get_fly_distance(self):\n",
        "        return self.fly_distance\n",
        "\n",
        "    def flight_speed(self):\n",
        "        self.speed = int(input(\"What is the flight speed?\"))\n",
        "        print(\"flight speed:\",self.speed)\n",
        "    def time_of_flight(self):\n",
        "        self.time = int(input(\"How much time will they spend flying?\"))\n",
        "        print(\"they will fly for:\",self.time)\n",
        "    def get_distance(self):\n",
        "        self.distance = self.speed * self.time\n",
        "        print(\"distance:\",self.distance)\n",
        "\n",
        "    def toString(self):\n",
        "        print(\"*****************************************\")\n",
        "        print(\"wing size:\",self.get_wing_size())\n",
        "        print(\"flight distance:\",self.get_fly_distance())\n",
        "\n",
        "class Bat(Mammal, WingedAnimal):\n",
        "    def __init__(self, hair, drink, wing_size, fly_distance):\n",
        "        Mammal.__init__(self,hair, drink)\n",
        "        WingedAnimal.__init__(self, wing_size, fly_distance)\n",
        "    \n",
        "    def give_birth(self):\n",
        "        babies = int(input(\"How many babies can a bat have?\"))\n",
        "        if babies >= 1 and babies <= 2:\n",
        "            print(\"this is okay\")\n",
        "        elif babies >2 and babies <= 4:\n",
        "            print(\"this is dangerous\")\n",
        "        elif babies >4:\n",
        "            print(\"this is not good, check the bat\")\n",
        "\n",
        "    def flight_speed(self):\n",
        "        self.speed = int(input(\"What is the speed of the bat?\"))\n",
        "        if (self.speed < 100):\n",
        "            print(\"the bat is slow\")\n",
        "        elif (self.speed == 100):\n",
        "            print(\"the bat is average\")\n",
        "        else: \n",
        "            print(\"this bat is fast\")\n",
        "    def time_of_flight(self):\n",
        "        self.time = int(input(\"How long has the bat been flying?\"))\n",
        "        if (self.time < 1 ):\n",
        "            print(\"the bat can go longer\")\n",
        "        elif (self.time >= 1 and self.time <= 2):\n",
        "            print(\"the bat might have to stop soon\")\n",
        "        elif (self.time > 2):\n",
        "            print(\"the bat needs rest\")\n",
        "    def get_distance(self):\n",
        "        self.distance = self.speed * self.time\n",
        "        print(\"distace:\",self.distance)\n",
        "\n",
        "    def toString(self):\n",
        "        Mammal.toString(self)\n",
        "        WingedAnimal.toString(self)\n",
        "    "
      ]
    },
    {
      "cell_type": "code",
      "execution_count": 12,
      "metadata": {
        "colab": {
          "base_uri": "https://localhost:8080/"
        },
        "id": "JS2UXdN_ruTR",
        "outputId": "f472bcdb-bbe9-4469-ed78-6a1a5cb7362f"
      },
      "outputs": [
        {
          "name": "stdout",
          "output_type": "stream",
          "text": [
            "7\n",
            "this is dangerous\n",
            "flight speed: 50\n",
            "they will fly for: 200\n",
            "distance: 10000\n",
            "the bat is slow\n",
            "the bat needs rest\n",
            "distace: 208\n"
          ]
        }
      ],
      "source": [
        "if __name__==\"__main__\":\n",
        "    cat = Mammal(\"orange\", \"water\")\n",
        "    eagle = WingedAnimal(\"3ft\", \"50 mi/hr\")\n",
        "    bat = Bat(\"black\", \"milk\", \"0.5in.\", \"10 mi/hr\")\n",
        "\n",
        "    cat.give_birth()\n",
        "    bat.give_birth()\n",
        "\n",
        "    eagle.flight_speed()\n",
        "    eagle.time_of_flight()\n",
        "    eagle.get_distance()\n",
        "\n",
        "    bat.flight_speed()\n",
        "    bat.time_of_flight()\n",
        "    bat.get_distance()"
      ]
    },
    {
      "cell_type": "markdown",
      "metadata": {
        "id": "lQ-fqQxWS1l4"
      },
      "source": [
        "# Python Multilevel Inheritance\n",
        "\n",
        "In Python, not only can we derive a class from the superclass but you can also derive a class from the derived class. This form of inheritance is known as multilevel inheritance.\n",
        "\n",
        "Here's the syntax of the multilevel inheritance,\n",
        "\n",
        "\n",
        "\n",
        "```\n",
        "class SuperClass:\n",
        "    # Super class code here\n",
        "\n",
        "class DerivedClass1(SuperClass):\n",
        "    # Derived class 1 code here\n",
        "\n",
        "class DerivedClass2(DerivedClass1):\n",
        "    # Derived class 2 code here\n",
        "```\n",
        "Here, the `DerivedClass1` class is derived from the `SuperClass` class, and the `DerivedClass2` class is derived from the `DerivedClass1` class.\n",
        "\n",
        "![link text](https://www.programiz.com/sites/tutorial2program/files/python-multilevel-inheritance.png)\n",
        "\n",
        "**Example: Python Multilevel Inheritance**"
      ]
    },
    {
      "cell_type": "code",
      "execution_count": null,
      "metadata": {
        "id": "Dt6UTf-YS7rW"
      },
      "outputs": [],
      "source": [
        "class SuperClass:\n",
        "\n",
        "    def super_method(self):\n",
        "        print(\"Super Class method called\")\n",
        "\n",
        "# define class that derive from SuperClass\n",
        "class DerivedClass1(SuperClass):\n",
        "    def derived1_method(self):\n",
        "        print(\"Derived class 1 method called\")\n",
        "\n",
        "# define class that derive from DerivedClass1\n",
        "class DerivedClass2(DerivedClass1):\n",
        "\n",
        "    def derived2_method(self):\n",
        "        print(\"Derived class 2 method called\")\n",
        "\n",
        "# create an object of DerivedClass2\n",
        "d2 = DerivedClass2()\n",
        "\n",
        "d2.super_method()  # Output: \"Super Class method called\"\n",
        "\n",
        "d2.derived1_method()  # Output: \"Derived class 1 method called\"\n",
        "\n",
        "d2.derived2_method()  # Output: \"Derived class 2 method called\""
      ]
    },
    {
      "cell_type": "markdown",
      "metadata": {
        "id": "Go_61CCSU7Qc"
      },
      "source": [
        "In the above example, `DerivedClass2` is derived from `DerivedClass1`, which is derived from `SuperClass`.\n",
        "\n",
        "It means that `DerivedClass2` inherits all the attributes and methods of both `DerivedClass1` and `SuperClass`.\n",
        "\n",
        "Hence, we are using `d2` (object of `DerivedClass2`) to call methods from `SuperClass`, `DerivedClass1`, and `DerivedClass2`."
      ]
    },
    {
      "cell_type": "markdown",
      "metadata": {
        "id": "8vgZ8tTYDG6I"
      },
      "source": [
        "**Exercise: Bakery Inheritance**\n",
        "\n",
        "You are working on a software system for a bakery. You need to implement a set of classes that model different products sold at the bakery. Your task is to complete the implementation of the following classes based on the given descriptions:\n",
        "\n",
        "Class Descriptions\n",
        "\n",
        "\t1.\tBakery Class:\n",
        "\t•\tAttributes: name (string), product (string), price (float)\n",
        "\t•\tMethods:\n",
        "\t•\tbake(): Prints a message indicating what is being baked.\n",
        "\t•\tget_price(): Returns the price of the product.\n",
        "\t2.\tCupcake Class (inherits from Bakery):\n",
        "\t•\tAttributes: recipe (string), ingredients (list of dicts with keys ‘name’ and ‘cost’), final_cost (float)\n",
        "\t•\tMethods:\n",
        "\t•\tbake(): Prints a message indicating what is being baked and the recipe.\n",
        "\t•\tget_ingredients(): Returns a list of ingredient names.\n",
        "\t•\tget_final_cost(): Returns the total cost of making the cupcake (sum of ingredient costs).\n",
        "\t3.\tCupcakeFiesta Class (inherits from Cupcake):\n",
        "\t•\tAttributes: decoration_type (string), decoration_price (float)\n",
        "\t•\tMethods:\n",
        "\t•\tget_final_cost(): Returns the total cost of making the cupcake including the decoration price."
      ]
    },
    {
      "cell_type": "code",
      "execution_count": 18,
      "metadata": {
        "colab": {
          "base_uri": "https://localhost:8080/"
        },
        "id": "29mwagbcBhWL",
        "outputId": "414ff04b-44a0-406a-f22c-dd1182cd0cd2"
      },
      "outputs": [],
      "source": [
        "class Bakery:\n",
        "    def __init__(self, name, product, price):\n",
        "        self.name = name\n",
        "        self._product = product\n",
        "        self.__price = price\n",
        "\n",
        "    def set_name(self, name):\n",
        "        self.name = name\n",
        "    def get_name(self):\n",
        "        return self.name\n",
        "    def set_product(self, product):\n",
        "        self._product = product\n",
        "    def get_product(self):\n",
        "        return self._product\n",
        "    def set_price(self, price):\n",
        "        self.__price = price\n",
        "    def get_price(self):\n",
        "        return self.__price\n",
        "    \n",
        "    def toString(self):\n",
        "        print(\"name:\",self.get_name())\n",
        "        print(\"product:\",self.get_product())\n",
        "        #print(\"price:\",self.get_price())\n",
        "        print(f\"price:${self.get_price():.2f}\")\n",
        "    def bake(self):\n",
        "        self.baked_item = input(\"what is being baked?\")\n",
        "        print(self.baked_item, \"is the item currently baking\")\n",
        "\n",
        "class Cupcake(Bakery):\n",
        "    def __init__(self, name, product, price, recipe, ingredients, final_cost):\n",
        "        Bakery.__init__(self, name, product, price)\n",
        "        self.__recipe = recipe\n",
        "        self.__ingredients = ingredients\n",
        "        self.__final_cost = final_cost\n",
        "\n",
        "    #getters/setters\n",
        "    def set_recipe(self, recipe):\n",
        "        self.__recipe = recipe\n",
        "    def get_recipe(self):\n",
        "        return self.__recipe\n",
        "    def set_ingredients(self, ingredients):\n",
        "        self.__ingredients = ingredients\n",
        "    def get_ingredients(self):\n",
        "        return self.__ingredients\n",
        "    def set_final_cost(self, final_cost):\n",
        "        self.__final_cost = final_cost\n",
        "    def get_final_cost(self):\n",
        "        for key,value in self.__ingredients.items():\n",
        "            self.__final_cost += value\n",
        "            #print(key, value)\n",
        "        return self.__final_cost\n",
        "    \n",
        "    #methods\n",
        "    def toString(self):\n",
        "        Bakery.toString(self)\n",
        "        print(\"recipe:\",self.get_recipe())\n",
        "        print(\"ingredients:\",self.get_ingredients())\n",
        "        print(f\"final cost:${self.get_final_cost():.2f}\")\n",
        "    def bake(self):\n",
        "        print(\"a cupcake is being baked\")\n",
        "        print(\"the recipe is:\",self.get_recipe())\n",
        "    \n",
        "class CupcakeFiesta(Cupcake):\n",
        "    def __init__(self, name, product, price, recipe, ingredients, final_cost, decoration_type, decoration_price):\n",
        "        Bakery.__init__(self, name, product, price)\n",
        "        Cupcake.__init__(self, name, product, price, recipe, ingredients, final_cost)\n",
        "        self.__decoration_type = decoration_type\n",
        "        self.__decoration_price = decoration_price\n",
        "\n",
        "    #getters/setters\n",
        "    def set_decoration_type(self, decoration_type):\n",
        "        self.__decoration_type = decoration_type\n",
        "    def get_decoration_type(self):\n",
        "        return self.__decoration_type\n",
        "    def set_decoration_price(self, decoration_price):\n",
        "        self.__decoration_price = decoration_price\n",
        "    def get_decoration_price(self):\n",
        "        return self.__decoration_price\n",
        "    \n",
        "    #methods \n",
        "    def toString(self):\n",
        "        Bakery.toString(self)\n",
        "        Cupcake.toString(self)\n",
        "        print(\"decoration type:\", self.get_decoration_type())\n",
        "        print(f\"decoration price:${self.get_decoration_price():.2f}\")\n",
        "    def get_final_cost(self):\n",
        "        self.updated_price = Cupcake.get_final_cost(self) + self.get_decoration_price()\n",
        "        return self.updated_price\n",
        "        \n"
      ]
    },
    {
      "cell_type": "code",
      "execution_count": 12,
      "metadata": {},
      "outputs": [
        {
          "name": "stdout",
          "output_type": "stream",
          "text": [
            "*********************************\n",
            "name: cupcake\n",
            "product: cupcake\n",
            "price: 3.0\n",
            "recipe: ad ingredients and bake\n",
            "ingredients: {'eggs': 0.3, 'flour': 1.0, 'sugar': 1.5, 'chocolate chips': 0.5, 'milk': 1.3, 'baking powder': 2.0}\n",
            "final cost: 23.200000000000003\n"
          ]
        }
      ],
      "source": [
        "if __name__==\"__main__\":\n",
        "    ingredients = {\"eggs\": 0.3, \"flour\": 1.00, \"sugar\": 1.50, \"chocolate chips\": 0.50, \"milk\": 1.30, \"baking powder\": 2.00} #dictionary -> {keys : value}\n",
        "\n",
        "    print(\"*********************************\")\n",
        "    c = Cupcake(\"cupcake\", \"cupcake\", 3.00, \"ad ingredients and bake\", ingredients, 10.00)\n",
        "    c.get_final_cost()\n",
        "    c.toString()\n",
        "     "
      ]
    },
    {
      "cell_type": "code",
      "execution_count": 19,
      "metadata": {},
      "outputs": [
        {
          "name": "stdout",
          "output_type": "stream",
          "text": [
            "name: name\n",
            "product: cake\n",
            "price:$30.00\n",
            "cuccake is the item currently baking\n",
            "*********************************\n",
            "a cupcake is being baked\n",
            "the recipe is: ad ingredients and bake\n",
            "name: cupcake\n",
            "product: cupcake\n",
            "price:$3.00\n",
            "recipe: ad ingredients and bake\n",
            "ingredients: {'eggs': 0.3, 'flour': 1.0, 'sugar': 1.5, 'chocolate chips': 0.5, 'milk': 1.3, 'baking powder': 2.0}\n",
            "final cost:$16.60\n",
            "*********************************\n",
            "a cupcake is being baked\n",
            "the recipe is: add ingredients and bake\n",
            "name: fiesta cupcake\n",
            "product: fiesta stype cupcake\n",
            "price:$3.00\n",
            "name: fiesta cupcake\n",
            "product: fiesta stype cupcake\n",
            "price:$3.00\n",
            "recipe: add ingredients and bake\n",
            "ingredients: {'eggs': 0.3, 'flour': 1.0, 'sugar': 1.5, 'chocolate chips': 0.5, 'milk': 1.3, 'baking powder': 2.0}\n",
            "final cost:$21.60\n",
            "decoration type: sprinkles\n",
            "decoration price:$5.00\n"
          ]
        }
      ],
      "source": [
        "if __name__==\"__main__\":\n",
        "     ingredients = {\"eggs\": 0.3, \"flour\": 1.00, \"sugar\": 1.50, \"chocolate chips\": 0.50, \"milk\": 1.30, \"baking powder\": 2.00} #dictionary -> {keys : value}\n",
        "\n",
        "     b =  Bakery(\"name\", \"cake\", 30.00)\n",
        "     b.toString()\n",
        "     b.bake()\n",
        "     print(\"*********************************\")\n",
        "     c = Cupcake(\"cupcake\", \"cupcake\", 3.00, \"ad ingredients and bake\", ingredients, 10.00)\n",
        "     c.bake()\n",
        "     c.toString()\n",
        "     print(\"*********************************\")\n",
        "\n",
        "     f = CupcakeFiesta(\"fiesta cupcake\", \"fiesta stype cupcake\", 3.00, \"add ingredients and bake\", ingredients, 10.00, \"sprinkles\", 5.00 )\n",
        "     f.bake()\n",
        "     f.toString()\n"
      ]
    },
    {
      "cell_type": "markdown",
      "metadata": {
        "id": "suc8aQrsTSVH"
      },
      "source": [
        "# Method Resolution Order (MRO) in Python\n",
        "\n",
        "If two superclasses have the same method (function) name and the derived class calls that method, Python uses the MRO to search for the right method to call. For example,\n",
        "\n"
      ]
    },
    {
      "cell_type": "code",
      "execution_count": null,
      "metadata": {
        "id": "-de_kzE8TMnG"
      },
      "outputs": [],
      "source": []
    },
    {
      "cell_type": "code",
      "execution_count": null,
      "metadata": {
        "id": "QsHeuh8STwie"
      },
      "outputs": [],
      "source": []
    },
    {
      "cell_type": "markdown",
      "metadata": {
        "id": "mfxg7RaWTxBR"
      },
      "source": [
        "Here, `SuperClass1` and `SuperClass2` both of these classes define a method `info()`.\n",
        "\n",
        "So when `info()` is called using the `d1` object of the `Derived` class, Python uses the **MRO** to determine which method to call.\n",
        "\n",
        "In this case, the **MRO** specifies that methods should be inherited from the leftmost superclass first, so `info()` of `SuperClass1` is called rather than that of `SuperClass2`."
      ]
    },
    {
      "cell_type": "markdown",
      "metadata": {
        "id": "xkJBLfJUUa4p"
      },
      "source": [
        "\n",
        "Review: There are 5 different types of inheritance in Python. They are:\n",
        "\n",
        "* Single Inheritance: a child class inherits from only one parent class.\n",
        "* Multiple Inheritance: a child class inherits from multiple parent classes.\n",
        "* Multilevel Inheritance: a child class inherits from its parent class, which is inheriting from its parent class.\n",
        "* Hierarchical Inheritance: more than one child class are created from a single parent class.\n",
        "* Hybrid Inheritance: combines more than one form of inheritance.\n",
        "\n",
        "\n",
        "\n",
        "![link text](https://miro.medium.com/v2/resize:fit:1400/format:webp/0*kIbbpmbxJLRjVdWn)\n",
        "\n"
      ]
    },
    {
      "cell_type": "markdown",
      "metadata": {
        "id": "AiWON2dWVAop"
      },
      "source": [
        "### Exercise 1: Multiple Inheritance (Healthcare)\n",
        "**Description**: Create a system that simulates patient monitoring in a healthcare setting.\n",
        "\n",
        "**Classes**:\n",
        "- `VitalSignsMonitor`\n",
        "  - **Attributes**: `heart_rate`, `blood_pressure`\n",
        "  - **Methods**: `display_vital_signs()`, `calculate_bmi(weight, height)`\n",
        "- `PatientRecord`\n",
        "  - **Attributes**: `patient_id`, `name`\n",
        "  - **Methods**: `display_record()`\n",
        "- `Patient` (inherits from `VitalSignsMonitor` and `PatientRecord`)\n",
        "  - **Attributes**: `patient_id`, `name`, `heart_rate`, `blood_pressure`, `weight`, `height`\n",
        "  - **Methods**: `display_patient_info()`\n",
        "\n",
        "**Task**: Instantiate the `Patient` class, calculate BMI using `calculate_bmi(weight, height)`, and display the patient information using the `display_patient_info()` method.\n",
        "\n",
        "**Expected Display Result**:\n",
        "\n",
        "```\n",
        "Patient ID: 12345\n",
        "Name: John Doe\n",
        "Heart Rate: 72 bpm\n",
        "Blood Pressure: 120/80 mmHg\n",
        "BMI: 24.2\n",
        "```\n",
        "\n"
      ]
    },
    {
      "cell_type": "code",
      "execution_count": 26,
      "metadata": {
        "id": "A42odaHoVA_t"
      },
      "outputs": [],
      "source": [
        "class VitalSignsMonitor:\n",
        "    def __init__(self, heart_rate, blood_pressure):\n",
        "        self.heart_rate = heart_rate\n",
        "        self.blood_pressure = blood_pressure\n",
        "    \n",
        "    #getters/setters\n",
        "    def set_heart_rate(self, heart_rate):\n",
        "        self.heart_rate = heart_rate\n",
        "    def get_heart_rate(self):\n",
        "        return self.heart_rate\n",
        "    def set_blood_pressure(self, blood_pressure):\n",
        "        self.blood_pressure = blood_pressure\n",
        "    def get_blood_pressure(self):\n",
        "        return self.blood_pressure\n",
        "    \n",
        "    #methods \n",
        "    def toString(self):\n",
        "        print(\"heart rate:\",self.get_heart_rate())\n",
        "        print(\"blood pressure:\",self.get_blood_pressure())\n",
        "    def calculate_bmi(self, weight, height):\n",
        "        bmi = weight / height**2 \n",
        "        return bmi\n",
        "    \n",
        "class PatientRecord:\n",
        "    def __init__(self, patient_id, name):\n",
        "        self.patient_id = patient_id\n",
        "        self.name = name\n",
        "\n",
        "    #getters/setter\n",
        "    def set_patient_id(self, patient_id):\n",
        "        self.patient_id = patient_id\n",
        "    def get_patient_id(self):\n",
        "        return self.patient_id\n",
        "    def set_name(self, name):\n",
        "        self.name = name\n",
        "    def get_name(self):\n",
        "        return self.name\n",
        "    \n",
        "    #methods\n",
        "    def toString(self):\n",
        "        print(\"patient id:\",self.get_patient_id())\n",
        "        print(\"name:\",self.get_name())\n",
        "    \n",
        "class Patient(VitalSignsMonitor, PatientRecord):\n",
        "    def __init__(self, heart_rate, blood_pressure, patient_id, name, weight, height):\n",
        "        VitalSignsMonitor.__init__(self, heart_rate, blood_pressure)\n",
        "        PatientRecord.__init__(self, patient_id, name)\n",
        "        self.weight = weight \n",
        "        self.height = height\n",
        "\n",
        "    #getters/setters\n",
        "    def set_weight(self, weight):\n",
        "        self.weight = weight \n",
        "    def get_weight(self):\n",
        "        return self.weight\n",
        "    def set_height(self, height):\n",
        "        self.height = height\n",
        "    def get_height(self):\n",
        "        return self.height\n",
        "    \n",
        "    #methods \n",
        "    def toString(self):\n",
        "        print(\"Patient ID:\",PatientRecord.get_patient_id(self))\n",
        "        print(\"Name:\",Patient.get_name(self))\n",
        "        print(\"Heart Rate:\",VitalSignsMonitor.get_heart_rate(self))\n",
        "        print(\"Blood Pressure:\",VitalSignsMonitor.get_blood_pressure(self))\n",
        "        print(f\"BMI:{VitalSignsMonitor.calculate_bmi(self, self.weight, self.height):.2f}\")\n"
      ]
    },
    {
      "cell_type": "code",
      "execution_count": 27,
      "metadata": {},
      "outputs": [
        {
          "name": "stdout",
          "output_type": "stream",
          "text": [
            "*************************************\n",
            "Patient ID: 5555\n",
            "Name: audrey\n",
            "Heart Rate: 72 bpm\n",
            "Blood Pressure: 120/80 mmHg\n",
            "BMI:23.44\n"
          ]
        }
      ],
      "source": [
        "if __name__==\"__main__\":\n",
        "    a = Patient(\"72 bpm\", \"120/80 mmHg\", 5555, \"audrey\", 60, 1.6)\n",
        "\n",
        "    print(\"*************************************\")\n",
        "    a.toString()"
      ]
    },
    {
      "cell_type": "markdown",
      "metadata": {
        "id": "5rqfYXXqWeAJ"
      },
      "source": [
        "### Exercise 2: Multiple Inheritance (Finance)\n",
        "**Description**: Create a system that simulates a banking application.\n",
        "\n",
        "**Classes**:\n",
        "- `Account`\n",
        "  - **Attributes**: `account_number`, `balance`\n",
        "  - **Methods**: `display_account_info()`, `calculate_interest(rate, years)`\n",
        "- `Customer`\n",
        "  - **Attributes**: `customer_id`, `name`\n",
        "  - **Methods**: `display_customer_info()`\n",
        "- `BankCustomer` (inherits from `Account` and `Customer`)\n",
        "  - **Attributes**: `customer_id`, `name`, `account_number`, `balance`\n",
        "  - **Methods**: `display_bank_customer_info()`\n",
        "\n",
        "**Task**: Instantiate the `BankCustomer` class, calculate interest using `calculate_interest(rate, years)`, and display the bank customer information using the `display_bank_customer_info()` method.\n",
        "\n",
        "**Expected Display Result**:\n",
        "\n",
        "\n",
        "\n",
        "```\n",
        "Customer ID: 67890\n",
        "Name: Jane Smith\n",
        "Account Number: 987654321\n",
        "Balance: $1000.00\n",
        "Interest after 5 years at 5%: $1276.28\n",
        "```\n",
        "\n"
      ]
    },
    {
      "cell_type": "code",
      "execution_count": 18,
      "metadata": {
        "id": "YBd60WulWg6S"
      },
      "outputs": [],
      "source": [
        "class Account:\n",
        "    def __init__(self, account_number, balance):\n",
        "        self.account_number = account_number\n",
        "        self.balance = balance\n",
        "\n",
        "    #getters/setters\n",
        "    def set_account_number(self, account_number):\n",
        "        self.account_number = account_number\n",
        "    def get_account_number(self):\n",
        "        return self.account_number\n",
        "    def set_balance(self, balance):\n",
        "        self.balance = balance\n",
        "    def get_balance(self):\n",
        "        return self.balance\n",
        "    \n",
        "    #methods\n",
        "    def toString(self):\n",
        "        print(\"Account Number:\", self.get_account_number())\n",
        "        print(\"Balance: \", self.get_balance())\n",
        "    def display_account_info(self):\n",
        "        print(\"Account Number:\", self.get_account_number())\n",
        "        print(f\"Balance: {self.get_balance():.2f}\")\n",
        "    def calculate_interest(self, rate, years):\n",
        "        print(\"Interest after\", years, \"years at\", rate,\"%:\", ((rate*0.01)*years)+1)\n",
        "    \n",
        "class Customer:\n",
        "    def __init__(self, customer_id, name):\n",
        "        self.customer_id = customer_id\n",
        "        self.name = name\n",
        "\n",
        "    #getters/setters\n",
        "    def set_customer_id(self, customer_id):\n",
        "        self.customer_id = customer_id\n",
        "    def get_customer_id(self):\n",
        "        return self.customer_id\n",
        "    def set_name(self, name):\n",
        "        self.name = name\n",
        "    def get_name(self):\n",
        "        return self.name\n",
        "    \n",
        "    #methods\n",
        "    def toString(self):\n",
        "        print(\"Customer ID: \", self.get_customer_id())\n",
        "        print(\"Name: \", self.get_name())\n",
        "    def display_customer_info(self):\n",
        "        print(\"Customer ID:\", self.get_customer_id())\n",
        "        print(\"Name:\", self.get_name())\n",
        "\n",
        "class BankCustomer(Account, Customer):\n",
        "    def __init__(self, account_number, balance, customer_id, name):\n",
        "        Account.__init__(self, account_number, balance)\n",
        "        Customer.__init__(self, customer_id, name)\n",
        "    \n",
        "    #getters/setters\n",
        "    def display_bank_customer_info(self):\n",
        "        Customer.display_customer_info(self)\n",
        "        Account.display_account_info(self)\n",
        "        rate = float(input(\"rate: \"))\n",
        "        years = int(input(\"years: \"))\n",
        "        Account.calculate_interest(self, rate, years)\n"
      ]
    },
    {
      "cell_type": "code",
      "execution_count": 20,
      "metadata": {},
      "outputs": [
        {
          "name": "stdout",
          "output_type": "stream",
          "text": [
            "Customer ID: 67890\n",
            "Name: audrey\n",
            "Account Number: 123\n",
            "Balance:1000.00\n",
            "Interest after 5 years at 5.0 %: 1.25\n"
          ]
        }
      ],
      "source": [
        "if __name__==\"__main__\":\n",
        "    \n",
        "    customer = BankCustomer(123, 1000.00, 67890, \"audrey\")\n",
        "    customer.display_bank_customer_info()"
      ]
    },
    {
      "cell_type": "markdown",
      "metadata": {
        "id": "YrHecaFxWhNQ"
      },
      "source": [
        "### Exercise 3: Multilevel Inheritance (Healthcare)\n",
        "**Description**: Create a system that simulates a hospital.\n",
        "\n",
        "**Classes**:\n",
        "- `Person`\n",
        "  - **Attributes**: `name`, `age`\n",
        "  - **Methods**: `display_person_info()`\n",
        "- `Staff` (inherits from `Person`)\n",
        "  - **Attributes**: `name`, `age`, `staff_id`, `working_years`\n",
        "  - **Methods**: `display_staff_info()`, `calculate_years_until_retirement(retirement_age)`\n",
        "- `Doctor` (inherits from `Staff`)\n",
        "  - **Attributes**: `name`, `age`, `staff_id`, `working_years`,`specialty`\n",
        "  - **Methods**: `display_doctor_info()`\n",
        "\n",
        "**Task**: Instantiate the `Doctor` class, calculate years until retirement using `calculate_years_until_retirement(retirement_age)` that calculate what year the doctor will retire considering that they need to work at leats 30 years, and display the doctor information using the `display_doctor_info()` method.\n",
        "\n",
        "**Expected Display Result**:\n",
        "\n",
        "```\n",
        "Name: Dr. Alice Brown\n",
        "Age: 45\n",
        "Staff ID: 555\n",
        "Specialty: Cardiology\n",
        "Years until retirement: 20\n",
        "```\n",
        "\n"
      ]
    },
    {
      "cell_type": "code",
      "execution_count": 32,
      "metadata": {
        "id": "nTgMKhQ9Wht7"
      },
      "outputs": [],
      "source": [
        "class Person:\n",
        "    def __init__(self, name, age):\n",
        "        self.name = name\n",
        "        self.age = age\n",
        "    \n",
        "    #getters/setters\n",
        "    def set_name(self, name):\n",
        "        self.name = name\n",
        "    def get_name(self):\n",
        "        return self.name\n",
        "    def set_age(self, age):\n",
        "        self.age = age\n",
        "    def get_age(self):\n",
        "        return self.age\n",
        "    \n",
        "    #methods\n",
        "    def display_person_info(self):\n",
        "        print(\"Name:\",self.get_name())\n",
        "        print(\"Age:\",self.get_age())\n",
        "\n",
        "class Staff(Person):\n",
        "    def __init__(self, name, age, staff_id, working_years):\n",
        "        Person.__init__(self, name, age)\n",
        "        self.staff_id = staff_id\n",
        "        self.working_years = working_years\n",
        "    \n",
        "    #getters/setters\n",
        "    def set_staff_id(self, staff_id):\n",
        "        self.staff_id = staff_id\n",
        "    def get_staff_id(self):\n",
        "        return self.staff_id\n",
        "    def set_working_years(self, working_years):\n",
        "        self.working_years = working_years\n",
        "    def get_working_years(self):\n",
        "        return self.working_years\n",
        "\n",
        "    #methods\n",
        "    def calculate_years_until_retirement(self, retirement_age):\n",
        "        retirement_age = 30 - self.get_working_years()\n",
        "        print(\"Years until retirement:\",retirement_age)\n",
        "    def display_staff_info(self):\n",
        "        print(\"Staff ID:\",self.get_staff_id())\n",
        "\n",
        "class Doctor(Staff):\n",
        "    def __init__(self, name, age, staff_id, working_years, specialty):\n",
        "        Person.__init__(self, name, age)\n",
        "        Staff.__init__(self, name, age, staff_id, working_years)\n",
        "        self.specialty = specialty\n",
        "\n",
        "    #getters/setters\n",
        "    def set_specialty(self, specialty):\n",
        "        self.specialty = specialty\n",
        "    def get_specialty(self):\n",
        "        return self.specialty\n",
        "    \n",
        "    #methods\n",
        "    def display_doctor_info(self):\n",
        "        Person.display_person_info(self)\n",
        "        Staff.display_staff_info(self)\n",
        "        print(\"Specialty:\",self.get_specialty())\n",
        "        Staff.calculate_years_until_retirement(self, Staff.get_working_years(self))\n"
      ]
    },
    {
      "cell_type": "code",
      "execution_count": 33,
      "metadata": {},
      "outputs": [
        {
          "name": "stdout",
          "output_type": "stream",
          "text": [
            "Name: audrey\n",
            "Age: 29\n",
            "Staff ID: 999\n",
            "Specialty: cardiology\n",
            "Years until retirement: 20\n"
          ]
        }
      ],
      "source": [
        "if __name__==\"__main__\":\n",
        "\n",
        "    doctor = Doctor(\"audrey\", 29, 999, 10, \"cardiology\")\n",
        "    doctor.display_doctor_info()"
      ]
    },
    {
      "cell_type": "markdown",
      "metadata": {
        "id": "Hf0XR5d4Ylkx"
      },
      "source": [
        "### Exercise 4: Multilevel Inheritance (AI and Finance)\n",
        "**Description**: Create a system that simulates an AI-based trading system.\n",
        "\n",
        "**Classes**:\n",
        "- `Algorithm`\n",
        "  - **Attributes**: `name`\n",
        "  - **Methods**: `display_algorithm_info()`\n",
        "- `TradingAlgorithm` (inherits from `Algorithm`)\n",
        "  - **Attributes**: `name`, `market`\n",
        "  - **Methods**: `display_trading_algorithm_info()`, `calculate_trade_success_rate(trades, successful_trades)`\n",
        "- `AIBasedTradingAlgorithm` (inherits from `TradingAlgorithm`)\n",
        "  - **Attributes**: `name`, `market`, `ai_model`\n",
        "  - **Methods**: `display_ai_trading_algorithm_info()`\n",
        "\n",
        "**Task**: Instantiate the `AIBasedTradingAlgorithm` class, calculate trade success rate using `calculate_trade_success_rate(trades, successful_trades)`, and display the AI trading algorithm information using the `display_ai_trading_algorithm_info()` method.\n",
        "\n",
        "**Expected Display Result**:\n",
        "\n",
        "\n",
        "\n",
        "```\n",
        "Algorithm Name: QuantumTrader\n",
        "Market: Forex\n",
        "AI Model: Deep Learning Model v2.0\n",
        "Trade Success Rate: 85%\n",
        "```\n",
        "\n"
      ]
    },
    {
      "cell_type": "code",
      "execution_count": null,
      "metadata": {
        "id": "oLuzrLcA-4gj"
      },
      "outputs": [],
      "source": []
    }
  ],
  "metadata": {
    "colab": {
      "provenance": []
    },
    "kernelspec": {
      "display_name": "Python 3",
      "language": "python",
      "name": "python3"
    },
    "language_info": {
      "codemirror_mode": {
        "name": "ipython",
        "version": 3
      },
      "file_extension": ".py",
      "mimetype": "text/x-python",
      "name": "python",
      "nbconvert_exporter": "python",
      "pygments_lexer": "ipython3",
      "version": "3.13.0"
    }
  },
  "nbformat": 4,
  "nbformat_minor": 0
}
