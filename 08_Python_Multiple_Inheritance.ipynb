{
  "cells": [
    {
      "cell_type": "markdown",
      "metadata": {
        "id": "-pC-gsf75iU3"
      },
      "source": [
        "\n",
        "**Object Orientation Programming**\n",
        "> **Professor: Sthefanie Passo**\n",
        "\n",
        "> **E-mail: sthefaniepasso@gmail.com**\n"
      ]
    },
    {
      "cell_type": "markdown",
      "metadata": {
        "id": "kT0a6Uku5w1u"
      },
      "source": [
        "# Python Multiple Inheritance\n",
        "A class can be derived from more than one superclass in Python. This is called multiple inheritance.\n",
        "\n",
        "For example, a class `Bat` is derived from superclasses `Mammal` and `WingedAnimal`. It makes sense because bat is a mammal as well as a winged animal.\n",
        "\n",
        "![link text](https://www.programiz.com/sites/tutorial2program/files/python-multiple-inheritance.png)\n",
        "\n",
        "\n",
        "\n",
        "# Python Multiple Inheritance Syntax\n",
        "\n",
        "\n",
        "\n",
        "```\n",
        "class SuperClass1:\n",
        "    # features of SuperClass1\n",
        "\n",
        "class SuperClass2:\n",
        "    # features of SuperClass2\n",
        "\n",
        "class MultiDerived(SuperClass1, SuperClass2):\n",
        "    # features of SuperClass1 + SuperClass2 + MultiDerived class\n",
        "```\n",
        "\n",
        "Here, the `MultiDerived` class is derived from `SuperClass1` and `SuperClass2` classes.\n",
        "\n",
        "\n",
        "**Example: Python Multiple Inheritance:**"
      ]
    },
    {
      "cell_type": "code",
      "execution_count": null,
      "metadata": {
        "id": "HrlTgY3u5eVA"
      },
      "outputs": [],
      "source": [
        "class Mammal:\n",
        "    def __init__(self, hair, drink):\n",
        "        self.hair = hair\n",
        "        self.drink = drink\n",
        "    \n",
        "    def set_hair(self, hair):\n",
        "        self.hair = hair\n",
        "    def get_hair(self):\n",
        "        return self.hair\n",
        "    def set_drink(self, drink):\n",
        "        self.drink = drink\n",
        "    def get_drink(self):\n",
        "        return self.drink\n",
        "\n",
        "    def toString(self):\n",
        "        print(\"***************************************\")\n",
        "        print(\"hair color:\",self.get_hair())\n",
        "        print(\"drinks:\",self.get_drink())\n",
        "    \n",
        "class WingedAnimal:\n",
        "    def __init__(self, wing_size, fly_distance):\n",
        "        self.fly_distance = fly_distance\n",
        "        self.wing_size = wing_size\n",
        "    \n",
        "    def set_wing_size(self, wing_size):\n",
        "        self.wing_size = wing_size\n",
        "    def get_wing_size(self):\n",
        "        return self.wing_size\n",
        "    def set_fly_distance(self, fly_distance):\n",
        "        self.fly_distance = fly_distance\n",
        "    def get_fly_distance(self):\n",
        "        return self.fly_distance\n",
        "\n",
        "    def toString(self):\n",
        "        print(\"*****************************************\")\n",
        "        print(\"wing size:\",self.get_wing_size())\n",
        "        print(\"flight distance:\",self.get_fly_distance())\n",
        "\n",
        "class Bat(Mammal, WingedAnimal):\n",
        "    def __init__(self, hair, drink, wing_size, fly_distance):\n",
        "        Mammal.__init__(self,hair, drink)\n",
        "        WingedAnimal.__init__(self, wing_size, fly_distance)\n",
        "    def toString(self):\n",
        "        Mammal.toString()\n",
        "        WingedAnimal.toString()\n",
        "    "
      ]
    },
    {
      "cell_type": "markdown",
      "metadata": {
        "id": "mn2uB3ApTi7z"
      },
      "source": [
        "In the above example, the Bat class is derived from two super classes: Mammal and WingedAnimal. Notice the statements,\n",
        "\n"
      ]
    },
    {
      "cell_type": "code",
      "execution_count": null,
      "metadata": {
        "id": "OvjdPfSVS2l1"
      },
      "outputs": [],
      "source": [
        "if __name__==\"__main\":\n",
        "    cat = Mammal(\"orange\", \"water\")\n",
        "    eagle = WingedAnimal(\"3ft\", \"50 mi/hr\")\n",
        "    bat = Bat(\"black\", \"milk\", \"0.5in.\", \"10 mi/hr\")\n",
        "\n",
        "    cat.toString()\n",
        "    eagle.toString()\n",
        "    bat.toString()"
      ]
    },
    {
      "cell_type": "markdown",
      "metadata": {
        "id": "Q1AfOYDlroAs"
      },
      "source": [
        "We can also create methods and overload them in the child class:"
      ]
    },
    {
      "cell_type": "code",
      "execution_count": null,
      "metadata": {
        "id": "R2M5zHd-rvVK"
      },
      "outputs": [],
      "source": []
    },
    {
      "cell_type": "code",
      "execution_count": null,
      "metadata": {
        "colab": {
          "base_uri": "https://localhost:8080/"
        },
        "id": "JS2UXdN_ruTR",
        "outputId": "f472bcdb-bbe9-4469-ed78-6a1a5cb7362f"
      },
      "outputs": [
        {
          "name": "stdout",
          "output_type": "stream",
          "text": [
            "This is a bat\n",
            "I line this blood type:  A+\n",
            "This is Mammal\n",
            "hair_color:  black\n",
            "milk_flavor:  plain\n",
            "This is a wingedAnimal\n",
            "wing_size:  2\n"
          ]
        }
      ],
      "source": []
    },
    {
      "cell_type": "markdown",
      "metadata": {
        "id": "lQ-fqQxWS1l4"
      },
      "source": [
        "# Python Multilevel Inheritance\n",
        "\n",
        "In Python, not only can we derive a class from the superclass but you can also derive a class from the derived class. This form of inheritance is known as multilevel inheritance.\n",
        "\n",
        "Here's the syntax of the multilevel inheritance,\n",
        "\n",
        "\n",
        "\n",
        "```\n",
        "class SuperClass:\n",
        "    # Super class code here\n",
        "\n",
        "class DerivedClass1(SuperClass):\n",
        "    # Derived class 1 code here\n",
        "\n",
        "class DerivedClass2(DerivedClass1):\n",
        "    # Derived class 2 code here\n",
        "```\n",
        "Here, the `DerivedClass1` class is derived from the `SuperClass` class, and the `DerivedClass2` class is derived from the `DerivedClass1` class.\n",
        "\n",
        "![link text](https://www.programiz.com/sites/tutorial2program/files/python-multilevel-inheritance.png)\n",
        "\n",
        "**Example: Python Multilevel Inheritance**"
      ]
    },
    {
      "cell_type": "code",
      "execution_count": null,
      "metadata": {
        "id": "Dt6UTf-YS7rW"
      },
      "outputs": [],
      "source": [
        "class SuperClass:\n",
        "\n",
        "    def super_method(self):\n",
        "        print(\"Super Class method called\")\n",
        "\n",
        "# define class that derive from SuperClass\n",
        "class DerivedClass1(SuperClass):\n",
        "    def derived1_method(self):\n",
        "        print(\"Derived class 1 method called\")\n",
        "\n",
        "# define class that derive from DerivedClass1\n",
        "class DerivedClass2(DerivedClass1):\n",
        "\n",
        "    def derived2_method(self):\n",
        "        print(\"Derived class 2 method called\")\n",
        "\n",
        "# create an object of DerivedClass2\n",
        "d2 = DerivedClass2()\n",
        "\n",
        "d2.super_method()  # Output: \"Super Class method called\"\n",
        "\n",
        "d2.derived1_method()  # Output: \"Derived class 1 method called\"\n",
        "\n",
        "d2.derived2_method()  # Output: \"Derived class 2 method called\""
      ]
    },
    {
      "cell_type": "markdown",
      "metadata": {
        "id": "Go_61CCSU7Qc"
      },
      "source": [
        "In the above example, `DerivedClass2` is derived from `DerivedClass1`, which is derived from `SuperClass`.\n",
        "\n",
        "It means that `DerivedClass2` inherits all the attributes and methods of both `DerivedClass1` and `SuperClass`.\n",
        "\n",
        "Hence, we are using `d2` (object of `DerivedClass2`) to call methods from `SuperClass`, `DerivedClass1`, and `DerivedClass2`."
      ]
    },
    {
      "cell_type": "markdown",
      "metadata": {
        "id": "8vgZ8tTYDG6I"
      },
      "source": [
        "**Exercise: Bakery Inheritance**\n",
        "\n",
        "You are working on a software system for a bakery. You need to implement a set of classes that model different products sold at the bakery. Your task is to complete the implementation of the following classes based on the given descriptions:\n",
        "\n",
        "Class Descriptions\n",
        "\n",
        "\t1.\tBakery Class:\n",
        "\t•\tAttributes: name (string), product (string), price (float)\n",
        "\t•\tMethods:\n",
        "\t•\tbake(): Prints a message indicating what is being baked.\n",
        "\t•\tget_price(): Returns the price of the product.\n",
        "\t2.\tCupcake Class (inherits from Bakery):\n",
        "\t•\tAttributes: recipe (string), ingredients (list of dicts with keys ‘name’ and ‘cost’), final_cost (float)\n",
        "\t•\tMethods:\n",
        "\t•\tbake(): Prints a message indicating what is being baked and the recipe.\n",
        "\t•\tget_ingredients(): Returns a list of ingredient names.\n",
        "\t•\tget_final_cost(): Returns the total cost of making the cupcake (sum of ingredient costs).\n",
        "\t3.\tCupcakeFiesta Class (inherits from Cupcake):\n",
        "\t•\tAttributes: decoration_type (string), decoration_price (float)\n",
        "\t•\tMethods:\n",
        "\t•\tget_final_cost(): Returns the total cost of making the cupcake including the decoration price."
      ]
    },
    {
      "cell_type": "code",
      "execution_count": null,
      "metadata": {
        "colab": {
          "base_uri": "https://localhost:8080/"
        },
        "id": "29mwagbcBhWL",
        "outputId": "414ff04b-44a0-406a-f22c-dd1182cd0cd2"
      },
      "outputs": [
        {
          "name": "stdout",
          "output_type": "stream",
          "text": [
            "Sunshine Bakery is baking generic baked goods.\n",
            "The price of generic baked goods is $10.00.\n",
            "Sunshine Bakery is baking vanilla cupcakes with the recipe: Mix and bake at 350F for 20 minutes.\n",
            "The ingredients for vanilla cupcakes are: flour, sugar, butter, eggs.\n",
            "The final cost of making vanilla cupcakes is $5.20.\n",
            "Sunshine Bakery is baking fiesta cupcakes with the recipe: Mix and bake at 350F for 20 minutes and decoration: Sprinkles.\n",
            "The final cost of making fiesta cupcakes with Sprinkles decoration is $6.20.\n"
          ]
        }
      ],
      "source": []
    },
    {
      "cell_type": "markdown",
      "metadata": {
        "id": "suc8aQrsTSVH"
      },
      "source": [
        "# Method Resolution Order (MRO) in Python\n",
        "\n",
        "If two superclasses have the same method (function) name and the derived class calls that method, Python uses the MRO to search for the right method to call. For example,\n",
        "\n"
      ]
    },
    {
      "cell_type": "code",
      "execution_count": null,
      "metadata": {
        "id": "-de_kzE8TMnG"
      },
      "outputs": [],
      "source": []
    },
    {
      "cell_type": "code",
      "execution_count": null,
      "metadata": {
        "id": "QsHeuh8STwie"
      },
      "outputs": [],
      "source": []
    },
    {
      "cell_type": "markdown",
      "metadata": {
        "id": "mfxg7RaWTxBR"
      },
      "source": [
        "Here, `SuperClass1` and `SuperClass2` both of these classes define a method `info()`.\n",
        "\n",
        "So when `info()` is called using the `d1` object of the `Derived` class, Python uses the **MRO** to determine which method to call.\n",
        "\n",
        "In this case, the **MRO** specifies that methods should be inherited from the leftmost superclass first, so `info()` of `SuperClass1` is called rather than that of `SuperClass2`."
      ]
    },
    {
      "cell_type": "markdown",
      "metadata": {
        "id": "xkJBLfJUUa4p"
      },
      "source": [
        "\n",
        "Review: There are 5 different types of inheritance in Python. They are:\n",
        "\n",
        "* Single Inheritance: a child class inherits from only one parent class.\n",
        "* Multiple Inheritance: a child class inherits from multiple parent classes.\n",
        "* Multilevel Inheritance: a child class inherits from its parent class, which is inheriting from its parent class.\n",
        "* Hierarchical Inheritance: more than one child class are created from a single parent class.\n",
        "* Hybrid Inheritance: combines more than one form of inheritance.\n",
        "\n",
        "\n",
        "\n",
        "![link text](https://miro.medium.com/v2/resize:fit:1400/format:webp/0*kIbbpmbxJLRjVdWn)\n",
        "\n"
      ]
    },
    {
      "cell_type": "markdown",
      "metadata": {
        "id": "AiWON2dWVAop"
      },
      "source": [
        "### Exercise 1: Multiple Inheritance (Healthcare)\n",
        "**Description**: Create a system that simulates patient monitoring in a healthcare setting.\n",
        "\n",
        "**Classes**:\n",
        "- `VitalSignsMonitor`\n",
        "  - **Attributes**: `heart_rate`, `blood_pressure`\n",
        "  - **Methods**: `display_vital_signs()`, `calculate_bmi(weight, height)`\n",
        "- `PatientRecord`\n",
        "  - **Attributes**: `patient_id`, `name`\n",
        "  - **Methods**: `display_record()`\n",
        "- `Patient` (inherits from `VitalSignsMonitor` and `PatientRecord`)\n",
        "  - **Attributes**: `patient_id`, `name`, `heart_rate`, `blood_pressure`, `weight`, `height`\n",
        "  - **Methods**: `display_patient_info()`\n",
        "\n",
        "**Task**: Instantiate the `Patient` class, calculate BMI using `calculate_bmi(weight, height)`, and display the patient information using the `display_patient_info()` method.\n",
        "\n",
        "**Expected Display Result**:\n",
        "\n",
        "```\n",
        "Patient ID: 12345\n",
        "Name: John Doe\n",
        "Heart Rate: 72 bpm\n",
        "Blood Pressure: 120/80 mmHg\n",
        "BMI: 24.2\n",
        "```\n",
        "\n"
      ]
    },
    {
      "cell_type": "code",
      "execution_count": null,
      "metadata": {
        "id": "A42odaHoVA_t"
      },
      "outputs": [],
      "source": []
    },
    {
      "cell_type": "markdown",
      "metadata": {
        "id": "5rqfYXXqWeAJ"
      },
      "source": [
        "### Exercise 2: Multiple Inheritance (Finance)\n",
        "**Description**: Create a system that simulates a banking application.\n",
        "\n",
        "**Classes**:\n",
        "- `Account`\n",
        "  - **Attributes**: `account_number`, `balance`\n",
        "  - **Methods**: `display_account_info()`, `calculate_interest(rate, years)`\n",
        "- `Customer`\n",
        "  - **Attributes**: `customer_id`, `name`\n",
        "  - **Methods**: `display_customer_info()`\n",
        "- `BankCustomer` (inherits from `Account` and `Customer`)\n",
        "  - **Attributes**: `customer_id`, `name`, `account_number`, `balance`\n",
        "  - **Methods**: `display_bank_customer_info()`\n",
        "\n",
        "**Task**: Instantiate the `BankCustomer` class, calculate interest using `calculate_interest(rate, years)`, and display the bank customer information using the `display_bank_customer_info()` method.\n",
        "\n",
        "**Expected Display Result**:\n",
        "\n",
        "\n",
        "\n",
        "```\n",
        "Customer ID: 67890\n",
        "Name: Jane Smith\n",
        "Account Number: 987654321\n",
        "Balance: $1000.00\n",
        "Interest after 5 years at 5%: $1276.28\n",
        "```\n",
        "\n"
      ]
    },
    {
      "cell_type": "code",
      "execution_count": null,
      "metadata": {
        "id": "YBd60WulWg6S"
      },
      "outputs": [],
      "source": []
    },
    {
      "cell_type": "markdown",
      "metadata": {
        "id": "YrHecaFxWhNQ"
      },
      "source": [
        "### Exercise 3: Multilevel Inheritance (Healthcare)\n",
        "**Description**: Create a system that simulates a hospital.\n",
        "\n",
        "**Classes**:\n",
        "- `Person`\n",
        "  - **Attributes**: `name`, `age`\n",
        "  - **Methods**: `display_person_info()`\n",
        "- `Staff` (inherits from `Person`)\n",
        "  - **Attributes**: `name`, `age`, `staff_id`, `working_years`\n",
        "  - **Methods**: `display_staff_info()`, `calculate_years_until_retirement(retirement_age)`\n",
        "- `Doctor` (inherits from `Staff`)\n",
        "  - **Attributes**: `name`, `age`, `staff_id`, `working_years`,`specialty`\n",
        "  - **Methods**: `display_doctor_info()`\n",
        "\n",
        "**Task**: Instantiate the `Doctor` class, calculate years until retirement using `calculate_years_until_retirement(retirement_age)` that calculate what year the doctor will retire considering that they need to work at leats 30 years, and display the doctor information using the `display_doctor_info()` method.\n",
        "\n",
        "**Expected Display Result**:\n",
        "\n",
        "```\n",
        "Name: Dr. Alice Brown\n",
        "Age: 45\n",
        "Staff ID: 555\n",
        "Specialty: Cardiology\n",
        "Years until retirement: 20\n",
        "```\n",
        "\n"
      ]
    },
    {
      "cell_type": "code",
      "execution_count": null,
      "metadata": {
        "id": "nTgMKhQ9Wht7"
      },
      "outputs": [],
      "source": []
    },
    {
      "cell_type": "markdown",
      "metadata": {
        "id": "Hf0XR5d4Ylkx"
      },
      "source": [
        "### Exercise 4: Multilevel Inheritance (AI and Finance)\n",
        "**Description**: Create a system that simulates an AI-based trading system.\n",
        "\n",
        "**Classes**:\n",
        "- `Algorithm`\n",
        "  - **Attributes**: `name`\n",
        "  - **Methods**: `display_algorithm_info()`\n",
        "- `TradingAlgorithm` (inherits from `Algorithm`)\n",
        "  - **Attributes**: `name`, `market`\n",
        "  - **Methods**: `display_trading_algorithm_info()`, `calculate_trade_success_rate(trades, successful_trades)`\n",
        "- `AIBasedTradingAlgorithm` (inherits from `TradingAlgorithm`)\n",
        "  - **Attributes**: `name`, `market`, `ai_model`\n",
        "  - **Methods**: `display_ai_trading_algorithm_info()`\n",
        "\n",
        "**Task**: Instantiate the `AIBasedTradingAlgorithm` class, calculate trade success rate using `calculate_trade_success_rate(trades, successful_trades)`, and display the AI trading algorithm information using the `display_ai_trading_algorithm_info()` method.\n",
        "\n",
        "**Expected Display Result**:\n",
        "\n",
        "\n",
        "\n",
        "```\n",
        "Algorithm Name: QuantumTrader\n",
        "Market: Forex\n",
        "AI Model: Deep Learning Model v2.0\n",
        "Trade Success Rate: 85%\n",
        "```\n",
        "\n"
      ]
    },
    {
      "cell_type": "code",
      "execution_count": null,
      "metadata": {
        "id": "oLuzrLcA-4gj"
      },
      "outputs": [],
      "source": []
    }
  ],
  "metadata": {
    "colab": {
      "provenance": []
    },
    "kernelspec": {
      "display_name": "Python 3.9.6 64-bit",
      "language": "python",
      "name": "python3"
    },
    "language_info": {
      "name": "python",
      "version": "3.9.6"
    },
    "vscode": {
      "interpreter": {
        "hash": "31f2aee4e71d21fbe5cf8b01ff0e069b9275f58929596ceb00d14d90e3e16cd6"
      }
    }
  },
  "nbformat": 4,
  "nbformat_minor": 0
}
